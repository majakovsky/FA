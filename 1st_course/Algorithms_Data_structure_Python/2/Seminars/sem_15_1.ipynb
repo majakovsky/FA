{
 "cells": [
  {
   "cell_type": "markdown",
   "metadata": {},
   "source": [
    "### Работа с массивами\n",
    "### Алгоритмы сортировки"
   ]
  },
  {
   "cell_type": "markdown",
   "metadata": {},
   "source": [
    "10) Написать 4 функции порождения списка целых значений: отсортированного (по возрастанию и убыванию), случайного и почти отсортированного по возрастанию. Каждая функция принимает длину списка в качестве аргумента."
   ]
  },
  {
   "cell_type": "code",
   "execution_count": 3,
   "metadata": {},
   "outputs": [],
   "source": [
    "from random import randint"
   ]
  },
  {
   "cell_type": "code",
   "execution_count": 4,
   "metadata": {},
   "outputs": [],
   "source": []
  },
  {
   "cell_type": "markdown",
   "metadata": {},
   "source": [
    "11) Реализовать функцию тестирования алгоритма сортировки. Процедура принимает на вход алгоритм сортировки и алгоритм порождения списка f_gen(list_len), генерирующий список заданной длины, количество повтороений теста и список длин использующихся для тестирования.\n",
    "Для каждой длины списка функция тестирования возвращает минимальное, среднее и наибольшее количество сравнений и перестановок."
   ]
  },
  {
   "cell_type": "code",
   "execution_count": 5,
   "metadata": {},
   "outputs": [],
   "source": [
    "def testing(sorting, f_gen, repeat, lst_of_len):\n",
    "    dic = {}\n",
    "    for len_ in lst_of_len:\n",
    "        max_s = 0\n",
    "        min_s = 0\n",
    "        max_p = 0\n",
    "        min_p = 0\n",
    "        lst_s = []\n",
    "        lst_p = []\n",
    "        for _ in range(repeat):\n",
    "            l, s, p = sorting(f_gen(len_))\n",
    "           # print(l, s, p)\n",
    "            max_p = max(p, max_p)\n",
    "            max_s = max(s, max_s)\n",
    "            if min_p == 0:\n",
    "                min_p = p\n",
    "            if min_s == 0:\n",
    "                min_s = s\n",
    "            min_p = min(p, min_p)\n",
    "            min_s = min(s, min_s)\n",
    "            lst_s.append(s)\n",
    "            lst_p.append(p)\n",
    "        dic[len_] = dict(max_s=max_s, min_s =min_s, max_p=max_p, min_p=min_p, average_s=sum(lst_s)/len(lst_s), average_p=sum(lst_p)/len(lst_p))\n",
    "    return dic\n"
   ]
  },
  {
   "cell_type": "code",
   "execution_count": 33,
   "metadata": {},
   "outputs": [
    {
     "data": {
      "text/plain": [
       "{10: {'max_s': 45,\n",
       "  'min_s': 45,\n",
       "  'max_p': 32,\n",
       "  'min_p': 11,\n",
       "  'average_s': 45.0,\n",
       "  'average_p': 22.7},\n",
       " 100: {'max_s': 4950,\n",
       "  'min_s': 4950,\n",
       "  'max_p': 2893,\n",
       "  'min_p': 2188,\n",
       "  'average_s': 4950.0,\n",
       "  'average_p': 2526.85},\n",
       " 1000: {'max_s': 499500,\n",
       "  'min_s': 499500,\n",
       "  'max_p': 257476,\n",
       "  'min_p': 241131,\n",
       "  'average_s': 499500.0,\n",
       "  'average_p': 250075.65}}"
      ]
     },
     "execution_count": 33,
     "metadata": {},
     "output_type": "execute_result"
    }
   ],
   "source": [
    "testing(cocktail_sort, generate, 20, [10,100,1000])"
   ]
  },
  {
   "cell_type": "code",
   "execution_count": 34,
   "metadata": {},
   "outputs": [
    {
     "data": {
      "text/plain": [
       "{10: {'max_s': 45,\n",
       "  'min_s': 45,\n",
       "  'max_p': 31,\n",
       "  'min_p': 10,\n",
       "  'average_s': 45.0,\n",
       "  'average_p': 21.05},\n",
       " 100: {'max_s': 4950,\n",
       "  'min_s': 4950,\n",
       "  'max_p': 2701,\n",
       "  'min_p': 2032,\n",
       "  'average_s': 4950.0,\n",
       "  'average_p': 2429.2},\n",
       " 1000: {'max_s': 499500,\n",
       "  'min_s': 499500,\n",
       "  'max_p': 259598,\n",
       "  'min_p': 242143,\n",
       "  'average_s': 499500.0,\n",
       "  'average_p': 249033.65}}"
      ]
     },
     "execution_count": 34,
     "metadata": {},
     "output_type": "execute_result"
    }
   ],
   "source": [
    "testing(bubble_sort, generate, 20, [10,100,1000])"
   ]
  },
  {
   "cell_type": "code",
   "execution_count": 35,
   "metadata": {},
   "outputs": [
    {
     "data": {
      "text/plain": [
       "{10: {'max_s': 9,\n",
       "  'min_s': 9,\n",
       "  'max_p': 0,\n",
       "  'min_p': 0,\n",
       "  'average_s': 9.0,\n",
       "  'average_p': 0.0},\n",
       " 100: {'max_s': 99,\n",
       "  'min_s': 99,\n",
       "  'max_p': 0,\n",
       "  'min_p': 0,\n",
       "  'average_s': 99.0,\n",
       "  'average_p': 0.0},\n",
       " 1000: {'max_s': 999,\n",
       "  'min_s': 999,\n",
       "  'max_p': 0,\n",
       "  'min_p': 0,\n",
       "  'average_s': 999.0,\n",
       "  'average_p': 0.0}}"
      ]
     },
     "execution_count": 35,
     "metadata": {},
     "output_type": "execute_result"
    }
   ],
   "source": [
    "testing(bubble_sort_2, gen_sort, 20, [10,100,1000])"
   ]
  },
  {
   "cell_type": "markdown",
   "metadata": {},
   "source": [
    "12) Реализовать модификацию сортировки пузырьком: \"камешек-пузырек\" - с чередующимися проходами, приводящими к \"всплытию\" самого большого значения списка и \"погружению\" самого маленького значения из неотсортированной части списка."
   ]
  },
  {
   "cell_type": "code",
   "execution_count": 9,
   "metadata": {},
   "outputs": [],
   "source": [
    "def coсktail_sort(arr):\n",
    "    r_side = len(arr) - 1\n",
    "    l_side = 0\n",
    "    while (l_side <= r_side):\n",
    "        for i in range(l_side, r_side):\n",
    "            if arr[i] > arr[i+1]:\n",
    "                arr[i], arr[i+1] = arr[i+1], arr[i]\n",
    "        r_side-=1\n",
    "        for i in range(r_side, l_side, -1):\n",
    "            if arr[i] < arr[i-1]:\n",
    "                arr[i-1], arr[i] = arr[i], arr[i-1]\n",
    "        l_side+=1"
   ]
  },
  {
   "cell_type": "code",
   "execution_count": 10,
   "metadata": {},
   "outputs": [],
   "source": [
    "test = [12,15,64, 21, 93, 102, 0, -5, -25, 96]"
   ]
  },
  {
   "cell_type": "code",
   "execution_count": 11,
   "metadata": {},
   "outputs": [
    {
     "name": "stdout",
     "output_type": "stream",
     "text": [
      "[-25, -5, 0, 12, 15, 21, 64, 93, 96, 102]\n"
     ]
    }
   ],
   "source": [
    "coсktail_sort(test)\n",
    "print(test)"
   ]
  },
  {
   "cell_type": "markdown",
   "metadata": {
    "collapsed": true
   },
   "source": [
    "13) Добавить в сортировку счетчик количества операций перестановки и счетчик количества сравнений. Возвращать счетчики вместе с отсортированным списком."
   ]
  },
  {
   "cell_type": "code",
   "execution_count": 12,
   "metadata": {},
   "outputs": [],
   "source": []
  },
  {
   "cell_type": "code",
   "execution_count": 13,
   "metadata": {},
   "outputs": [],
   "source": []
  },
  {
   "cell_type": "code",
   "execution_count": 14,
   "metadata": {},
   "outputs": [],
   "source": []
  },
  {
   "cell_type": "code",
   "execution_count": 15,
   "metadata": {},
   "outputs": [],
   "source": [
    "\n",
    "      "
   ]
  },
  {
   "cell_type": "code",
   "execution_count": 16,
   "metadata": {},
   "outputs": [
    {
     "name": "stdout",
     "output_type": "stream",
     "text": [
      "([-25, -5, 0, 12, 15, 21, 64, 93, 96, 102], 45, 23)\n",
      "([-25, -5, 0, 12, 15, 21, 64, 93, 96, 102], 45, 23)\n",
      "([-25, -5, 0, 12, 15, 21, 64, 93, 96, 102], 45, 23)\n"
     ]
    }
   ],
   "source": [
    "test = [12,15,64, 21, 93, 102, 0, -5, -25, 96]\n",
    "print(cocktail_sort(test))\n",
    "test = [12,15,64, 21, 93, 102, 0, -5, -25, 96]\n",
    "print(bubble_sort(test))\n",
    "test = [12,15,64, 21, 93, 102, 0, -5, -25, 96]\n",
    "\n",
    "print(bubble_sort_2(test))"
   ]
  },
  {
   "cell_type": "code",
   "execution_count": 17,
   "metadata": {},
   "outputs": [],
   "source": [
    "from random import randint\n",
    "from copy import copy"
   ]
  },
  {
   "cell_type": "code",
   "execution_count": 18,
   "metadata": {},
   "outputs": [
    {
     "name": "stdout",
     "output_type": "stream",
     "text": [
      "test:[-529, -563, -746, 201, -217, -223, -747, -945, -455, 347, -776, 158, -335, 986, 473]\n",
      "cockt ([-945, -776, -747, -746, -563, -529, -455, -335, -223, -217, 158, 201, 347, 473, 986], 105, 39)\n",
      "bs1 ([-945, -776, -747, -746, -563, -529, -455, -335, -223, -217, 158, 201, 347, 473, 986], 105, 39)\n",
      "bs2 ([-945, -776, -747, -746, -563, -529, -455, -335, -223, -217, 158, 201, 347, 473, 986], 95, 39)\n",
      "bss ([-945, -776, -747, -746, -563, -529, -455, -335, -223, -217, 158, 201, 347, 473, 986], 105, 39)\n"
     ]
    }
   ],
   "source": []
  },
  {
   "cell_type": "markdown",
   "metadata": {},
   "source": [
    "14) Протестировать алгоритм \"пузырек\" и \"камешек-пузырек\" на разных типах списков."
   ]
  },
  {
   "cell_type": "markdown",
   "metadata": {},
   "source": [
    "15) Реализовать модификацию сортировки выбором на основе выбора из подсписков (описанного в лекции). Протестировать алгоритм."
   ]
  },
  {
   "cell_type": "markdown",
   "metadata": {},
   "source": [
    "16) Реализовать быструю сортировку с возможностью подсчета операций. Сравнить производительность алгоритма на случайных и упорядоченных (и почти упорядоченных) данных."
   ]
  },
  {
   "cell_type": "code",
   "execution_count": 19,
   "metadata": {},
   "outputs": [],
   "source": [
    "def quick_sort(a_list):\n",
    "    s = [0]\n",
    "    p = [0]\n",
    "    quick_sort_helper(a_list, 0, len(a_list) - 1, s, p)\n",
    "    return a_list, s[0], p[0]\n",
    "\n",
    "def quick_sort_helper(a_list, first, last, s, p):\n",
    "    if first < last:\n",
    "\n",
    "        split_point, s, p = partition(a_list, first, last, s, p)\n",
    "\n",
    "        quick_sort_helper(a_list, first, split_point - 1, s, p)\n",
    "        quick_sort_helper(a_list, split_point + 1, last, s, p)\n",
    "\n",
    "def partition(a_list, first, last, s, p):\n",
    "    pivot_value = a_list[first]\n",
    "\n",
    "    left_mark = first + 1\n",
    "    right_mark = last\n",
    "\n",
    "    done = False\n",
    "    while not done:\n",
    "\n",
    "        while left_mark <= right_mark and a_list[left_mark] <= pivot_value:\n",
    "            s[0] += 2\n",
    "            left_mark += 1\n",
    "\n",
    "        while a_list[right_mark] >= pivot_value and right_mark >= left_mark:\n",
    "            s[0] += 2\n",
    "            right_mark -= 1\n",
    "        \n",
    "        s[0] += 1\n",
    "        if right_mark < left_mark:\n",
    "            done = True\n",
    "        else:\n",
    "            p[0] += 2\n",
    "            a_list[left_mark], a_list[right_mark] = a_list[right_mark], a_list[left_mark]\n",
    "    \n",
    "    s[0] += 4\n",
    "    a_list[first], a_list[right_mark] = a_list[right_mark], a_list[first]\n",
    "    p[0] += 2\n",
    "    return right_mark, s, p            "
   ]
  },
  {
   "cell_type": "code",
   "execution_count": 20,
   "metadata": {},
   "outputs": [],
   "source": [
    "test = [1, 2, 5, 7, 2, 9, 15, -100, 123, 43]"
   ]
  },
  {
   "cell_type": "code",
   "execution_count": 21,
   "metadata": {},
   "outputs": [
    {
     "name": "stdout",
     "output_type": "stream",
     "text": [
      "([-100, 1, 2, 2, 5, 7, 9, 15, 43, 123], 81, 18)\n"
     ]
    }
   ],
   "source": [
    "print(quick_sort(test))"
   ]
  },
  {
   "cell_type": "code",
   "execution_count": 22,
   "metadata": {},
   "outputs": [
    {
     "name": "stdout",
     "output_type": "stream",
     "text": [
      "{10: {'max_s': 107, 'min_s': 68, 'max_p': 22, 'min_p': 14, 'average_s': 80.85, 'average_p': 18.3}, 100: {'max_s': 1932, 'min_s': 1544, 'max_p': 344, 'min_p': 312, 'average_s': 1723.5, 'average_p': 326.4}, 1000: {'max_s': 30543, 'min_s': 26292, 'max_p': 4832, 'min_p': 4602, 'average_s': 27577.3, 'average_p': 4727.0}}\n",
      "{10: {'max_s': 45, 'min_s': 45, 'max_p': 28, 'min_p': 14, 'average_s': 45.0, 'average_p': 21.6}, 100: {'max_s': 4950, 'min_s': 4950, 'max_p': 2762, 'min_p': 2248, 'average_s': 4950.0, 'average_p': 2502.6}, 1000: {'max_s': 499500, 'min_s': 499500, 'max_p': 259137, 'min_p': 242556, 'average_s': 499500.0, 'average_p': 249275.1}}\n"
     ]
    }
   ],
   "source": [
    "print(testing(quick_sort, generate, 20, [10, 100, 1000]))\n",
    "print(testing(bubble_sort, generate, 20, [10, 100, 1000]))"
   ]
  },
  {
   "cell_type": "code",
   "execution_count": 23,
   "metadata": {},
   "outputs": [],
   "source": []
  },
  {
   "cell_type": "code",
   "execution_count": null,
   "metadata": {},
   "outputs": [],
   "source": []
  },
  {
   "cell_type": "code",
   "execution_count": null,
   "metadata": {},
   "outputs": [],
   "source": []
  },
  {
   "cell_type": "markdown",
   "metadata": {},
   "source": [
    "17) Улучшить работу быстрой сортировки на упорядоченных и почти упорядоченных за счет изменения алгоритма выбора элемента для разделения массива."
   ]
  },
  {
   "cell_type": "code",
   "execution_count": 25,
   "metadata": {},
   "outputs": [],
   "source": []
  },
  {
   "cell_type": "code",
   "execution_count": 26,
   "metadata": {},
   "outputs": [
    {
     "name": "stdout",
     "output_type": "stream",
     "text": [
      "{10: {'max_s': 117, 'min_s': 73, 'max_p': 24, 'min_p': 16, 'average_s': 83.96666666666667, 'average_p': 19.0}, 100: {'max_s': 1933, 'min_s': 1573, 'max_p': 352, 'min_p': 310, 'average_s': 1729.4666666666667, 'average_p': 326.26666666666665}, 1000: {'max_s': 33055, 'min_s': 25063, 'max_p': 4924, 'min_p': 4550, 'average_s': 27349.533333333333, 'average_p': 4756.266666666666}}\n",
      "{10: {'max_s': 135, 'min_s': 65, 'max_p': 22, 'min_p': 14, 'average_s': 93.66666666666667, 'average_p': 18.133333333333333}, 100: {'max_s': 9634, 'min_s': 2375, 'max_p': 318, 'min_p': 204, 'average_s': 4764.533333333334, 'average_p': 263.46666666666664}, 1000: {'max_s': 964696, 'min_s': 98934, 'max_p': 3862, 'min_p': 2040, 'average_s': 542529.0333333333, 'average_p': 2699.266666666667}}\n"
     ]
    }
   ],
   "source": [
    "print(testing(quick_sort, generate, 30, [10, 100, 1000]))\n",
    "print(testing(quick_sort2, generate, 30, [10, 100, 1000]))"
   ]
  },
  {
   "cell_type": "code",
   "execution_count": 27,
   "metadata": {},
   "outputs": [
    {
     "name": "stdout",
     "output_type": "stream",
     "text": [
      "{10: {'max_s': 135, 'min_s': 135, 'max_p': 18, 'min_p': 18, 'average_s': 135.0, 'average_p': 18.0}, 100: {'max_s': 10395, 'min_s': 10282, 'max_p': 198, 'min_p': 196, 'average_s': 10387.166666666666, 'average_p': 197.8}, 1000: {'max_s': 1001545, 'min_s': 990121, 'max_p': 1992, 'min_p': 1966, 'average_s': 996469.7666666667, 'average_p': 1982.4666666666667}}\n",
      "{10: {'max_s': 77, 'min_s': 77, 'max_p': 14, 'min_p': 14, 'average_s': 77.0, 'average_p': 14.0}, 100: {'max_s': 3903, 'min_s': 3903, 'max_p': 186, 'min_p': 186, 'average_s': 3903.0, 'average_p': 186.0}, 1000: {'max_s': 333744, 'min_s': 128171, 'max_p': 1968, 'min_p': 1886, 'average_s': 232001.36666666667, 'average_p': 1916.8666666666666}}\n"
     ]
    }
   ],
   "source": [
    "print(testing(quick_sort, gen_sort, 30, [10, 100, 1000]))\n",
    "print(testing(quick_sort2, gen_sort, 30, [10, 100, 1000]))"
   ]
  },
  {
   "cell_type": "markdown",
   "metadata": {},
   "source": [
    "18) Реализовать эффективный алгоритм получения из большого количества отсортированных списков одного отсортированного списка."
   ]
  },
  {
   "cell_type": "code",
   "execution_count": 28,
   "metadata": {},
   "outputs": [],
   "source": []
  },
  {
   "cell_type": "code",
   "execution_count": 29,
   "metadata": {},
   "outputs": [
    {
     "data": {
      "text/plain": [
       "[-78.1512,\n",
       " -38,\n",
       " -37,\n",
       " -9.37,\n",
       " -0.1,\n",
       " 0,\n",
       " 0,\n",
       " 1,\n",
       " 4,\n",
       " 5,\n",
       " 5,\n",
       " 6,\n",
       " 6,\n",
       " 7,\n",
       " 7,\n",
       " 7,\n",
       " 7,\n",
       " 8,\n",
       " 13.26362,\n",
       " 14,\n",
       " 15]"
      ]
     },
     "execution_count": 29,
     "metadata": {},
     "output_type": "execute_result"
    }
   ],
   "source": [
    "s = [[0, 1, 5, 6, 7], [-9.37, 4, 6, 8, 13.26362, 15], [-0.1, 7, 7, 7, 14], [-78.1512, -38, -37, 0, 5]]\n",
    "lst = sort(s)\n",
    "lst"
   ]
  },
  {
   "cell_type": "markdown",
   "metadata": {},
   "source": [
    "19) Модифицировать последовательность длин шагов в сортировке Шелла.\n",
    "\n",
    "На $2[n/2^{k+1}]+1$\n",
    "\n",
    "т.е. при первой сортировке будут использоваться шаги: 2*[n/4]+1, 2*[n/8]+1, ... , 3, 1 ."
   ]
  },
  {
   "cell_type": "code",
   "execution_count": 30,
   "metadata": {},
   "outputs": [],
   "source": []
  },
  {
   "cell_type": "code",
   "execution_count": 31,
   "metadata": {},
   "outputs": [],
   "source": [
    "test = [0, 32, 543, 123, -4032, 234, -1232, 223, 94832, 111, -93443, -234]"
   ]
  },
  {
   "cell_type": "code",
   "execution_count": 32,
   "metadata": {},
   "outputs": [
    {
     "name": "stdout",
     "output_type": "stream",
     "text": [
      "After increments of size 7 The list is [0, 32, 111, -93443, -4032, 234, -1232, 223, 94832, 543, 123, -234]\n",
      "After increments of size 3 The list is [-93443, -4032, -234, -1232, 32, 111, 0, 123, 234, 543, 223, 94832]\n",
      "After increments of size 1 The list is [-93443, -4032, -1232, -234, 0, 32, 111, 123, 223, 234, 543, 94832]\n"
     ]
    }
   ],
   "source": [
    "shell_sort(test)"
   ]
  }
 ],
 "metadata": {
  "anaconda-cloud": {},
  "kernelspec": {
   "display_name": "Python 3",
   "language": "python",
   "name": "python3"
  },
  "language_info": {
   "codemirror_mode": {
    "name": "ipython",
    "version": 3
   },
   "file_extension": ".py",
   "mimetype": "text/x-python",
   "name": "python",
   "nbconvert_exporter": "python",
   "pygments_lexer": "ipython3",
   "version": "3.7.6"
  }
 },
 "nbformat": 4,
 "nbformat_minor": 1
}
