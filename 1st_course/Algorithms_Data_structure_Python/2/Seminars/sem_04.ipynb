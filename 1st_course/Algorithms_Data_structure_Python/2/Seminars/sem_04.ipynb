{
 "cells": [
  {
   "cell_type": "markdown",
   "metadata": {},
   "source": [
    "### Задание на 4 занятие\n",
    "#### В программном коде дописать пропуски так, чтобы были выполнены следующие задания:"
   ]
  },
  {
   "cell_type": "markdown",
   "metadata": {},
   "source": [
    "1) Модифицировать конструктор фигуры так, чтобы при создании объекта для него мог задаваться внешний буфер экрана.\n",
    "\n",
    "Например, создать вне класса свой собственный экран из знаков \"&\" и передовать его во все создаваемые объекты:\n",
    "\n",
    "my_screen = [['&']*20 for _ in range(20)]\n",
    "sh = Shape(1, 1, my_screen)"
   ]
  },
  {
   "cell_type": "markdown",
   "metadata": {},
   "source": [
    "2) Реализовать методы сдвига фигуры на 1 единцу влево, вправо, вверх, вниз.\n",
    "\n",
    "3) Реализовать процедуру рисования всех фигур подклассов Shape вызовом одного метода уровня класса Shape.draw_all_shapes()\n"
   ]
  },
  {
   "cell_type": "code",
   "execution_count": 3,
   "metadata": {},
   "outputs": [],
   "source": [
    "class Sharp(object):\n",
    "    def __init__(self, x, y, screen=[]):\n",
    "        ... \n",
    "        ... \n",
    "        self.screen = screen if screen else [['.']*40 in range(40)]\n",
    "        \n",
    "    def __eq__(self, other):\n",
    "        return self.x == other.x and self.y == other.y\n",
    "    \n",
    "    def __ne__(self, other):\n",
    "        return not self.__eq__(other)\n",
    "    \n",
    "    def __lt__(self, other): #<\n",
    "        return self.x < other.x and self.y < other.y\n",
    "    \n",
    "    def __le__(self, other): #<=\n",
    "        return self.x <= other.x and self.y <= other.u\n",
    "    \n",
    "    def __gt__(self, other):\n",
    "        return not self.__le__(other)\n",
    "    \n",
    "    def __ge__(self, other):\n",
    "        return not self.__lt__(other)\n",
    "    \n",
    "    @property\n",
    "    def print_screen(self):\n",
    "         print(\"\\n\".join([\"\".join(line) for line in self.screen]))\n",
    "                           \n",
    "    def clear_screen(self):\n",
    "        self.screen=[['.']*40 for _ in range(40)]\n",
    "            \n",
    "    @property\n",
    "    def x(self):\n",
    "        return self.__x\n",
    "    \n",
    "    @property\n",
    "    def y(self):\n",
    "        return self.__y\n",
    "              \n",
    "    def draw(self):\n",
    "        self.screen[self.__y][self.__x]='*'\n",
    "        \n",
    "    def __str__(self):\n",
    "        return f'Это точка с координатами ({self.x};{self.y})'\n",
    "    \n",
    "    @property\n",
    "    def area(self):\n",
    "        return 0\n",
    "    \n",
    "    def up(self):\n",
    "        ...\n",
    "        ...\n",
    "        self.draw()\n",
    "        \n",
    "    def down(self):\n",
    "        ...\n",
    "        ...        \n",
    "        self.draw()\n",
    "        \n",
    "    def right(self):\n",
    "        ...\n",
    "        ...\n",
    "        self.draw()\n",
    "        \n",
    "    def left(self):\n",
    "        ...\n",
    "        ...\n",
    "        self.draw()"
   ]
  },
  {
   "cell_type": "code",
   "execution_count": 4,
   "metadata": {},
   "outputs": [],
   "source": [
    "class Rectangle(Sharp):\n",
    "    \n",
    "    def __init__(self,x,y,w,h,screen):\n",
    "        super().__init__(x,y,screen)\n",
    "        ... \n",
    "        ... \n",
    "        \n",
    "    def color(self):\n",
    "        for x1 in range(self.x, self.x+self.w):\n",
    "            type(self).screen[self.y][x1]='*'\n",
    "            type(self).screen[self.y+self.h-1][x1]='*'\n",
    "        for x1 in range(self.y, self.y+self.h):\n",
    "            type(self).screen[x1][self.x]='*'\n",
    "            type(self).screen[x1][self.x+self.w-1]='*'\n",
    "        \n",
    "    def draw(self):\n",
    "        ...\n",
    "        ...\n",
    "        ...\n",
    "                \n",
    "    @property\n",
    "    def area(self):\n",
    "        return self.h*self.w\n",
    "    \n",
    "    def __str__(self):\n",
    "        return f'Это прямоугольник с шириной {self.w} и высотой {self.h}'\n",
    "            "
   ]
  },
  {
   "cell_type": "code",
   "execution_count": 5,
   "metadata": {},
   "outputs": [],
   "source": [
    "class Square(Rectangle):\n",
    "    def __init__(self, x, y, w, screen):\n",
    "        super().__init__(x, y, w, w, screen)\n",
    "    def __str__(self):\n",
    "        return f'Это квадрат со стороной {self.w}'"
   ]
  },
  {
   "cell_type": "code",
   "execution_count": 8,
   "metadata": {},
   "outputs": [],
   "source": [
    "class Triangle(Sharp):   \n",
    "    def __init__(self, sh1, sh2, sh3, screen=[]):        \n",
    "        ...\n",
    "        ...\n",
    "        ...\n",
    "        self.screen = self.screen = screen if screen else [['.']*40 in range(40)]\n",
    "                \n",
    "    def line(self,sh1,sh2):\n",
    "        L=(max(sh2.x-sh1.x,sh2.y-sh1.y))+1\n",
    "        dx = (sh2.x-sh1.x) / L if L!=0 else 0\n",
    "        dy = (sh2.y-sh1.y) / L if L!=0 else 0\n",
    "        y=sh1.y\n",
    "        x=sh1.x\n",
    "        for i in range(0,L):\n",
    "            self.screen[round(y)][round(x)]='*'\n",
    "            y+=dy\n",
    "            x+=dx\n",
    "        self.screen[sh2.y][sh2.x]='*'  \n",
    "        \n",
    "    def draw(self):\n",
    "        ...\n",
    "        ...\n",
    "        ...\n",
    "    \n",
    "    @property\n",
    "    def area(self):\n",
    "        from math import sqrt\n",
    "        a=sqrt((self.sh1.x-self.sh2.x)**2+(self.sh1.y-self.sh2.y)**2)\n",
    "        b=sqrt((self.sh1.x-self.sh3.x)**2+(self.sh1.y-self.sh3.y)**2)\n",
    "        c=sqrt((self.sh2.x-self.sh3.x)**2+(self.sh2.y-self.sh3.y)**2)\n",
    "        p=(a+b+c)/2\n",
    "        s=sqrt(p*(p-a)*(p-b)*(p-c))\n",
    "        return s\n",
    "    \n",
    "    def __str__(self):\n",
    "        from math import sqrt\n",
    "        a=sqrt((self.sh1.x-self.sh2.x)**2+(self.sh1.y-self.sh2.y)**2)\n",
    "        b=sqrt((self.sh1.x-self.sh3.x)**2+(self.sh1.y-self.sh3.y)**2)\n",
    "        c=sqrt((self.sh2.x-self.sh3.x)**2+(self.sh2.y-self.sh3.y)**2)\n",
    "        return f'Это треугольник с длинами сторон {a}, {b} и {c}'"
   ]
  },
  {
   "cell_type": "code",
   "execution_count": 6,
   "metadata": {},
   "outputs": [],
   "source": [
    "class Line(object):\n",
    "    def __init__(self, sh1, sh2, screen=[]):\n",
    "        ...\n",
    "        ...\n",
    "        self.screen = screen if screen else [['.']*40 in range(40)]\n",
    "        \n",
    "    def draw(self):\n",
    "        L = (max(self.sh2.x-self.sh1.x,self.sh2.y-self.sh1.y))+1\n",
    "        dx = (self.sh2.x-self.sh1.x) / L if L!=0 else 0\n",
    "        dy = (self.sh2.y-self.sh1.y) / L if L!=0 else 0\n",
    "        y = self.sh1.y\n",
    "        x = self.sh1.x\n",
    "        for i in range(0,L):\n",
    "            self.screen[round(y)][round(x)] = ' '\n",
    "            y += dy\n",
    "            x += dx\n",
    "        self.screen[self.sh2.y][self.sh2.x] = ' '  \n",
    "        \n",
    "    def print_screen(self):\n",
    "        ...\n",
    "        ...\n",
    "        ...\n",
    "        ...\n",
    "        \n",
    "    def __str__(self):\n",
    "        from math import sqrt\n",
    "        a=sqrt((self.sh1.x-self.sh2.x)**2+(self.sh1.y-self.sh2.y)**2)\n",
    "        return f'Линия длины {a}'"
   ]
  },
  {
   "cell_type": "code",
   "execution_count": 8,
   "metadata": {},
   "outputs": [],
   "source": [
    "def print_screen(screen):\n",
    "    print ... "
   ]
  },
  {
   "cell_type": "code",
   "execution_count": 9,
   "metadata": {},
   "outputs": [],
   "source": [
    "my_screen = ...        \n"
   ]
  },
  {
   "cell_type": "code",
   "execution_count": 10,
   "metadata": {},
   "outputs": [],
   "source": [
    "sh = Sharp(10, 1,...)\n",
    "r = Rectangle(2, 5, 4, 3, ...)\n",
    "\n",
    "tr3=Triangle(Sharp(10,35,...),Sharp(17,25,...),Sharp(36,25,...),...)\n",
    "sq = Square(10, 15, 5)\n",
    "l = Line(Sharp(15,3, ...), Sharp(30,18,...),...)\n",
    "l2 = Line(Sharp(30,3, ...), Sharp(16,18,...), ...)"
   ]
  },
  {
   "cell_type": "code",
   "execution_count": 11,
   "metadata": {},
   "outputs": [],
   "source": [
    "for i in (sh,r,sq, tr3, l, l2):\n",
    "    i.draw()\n"
   ]
  },
  {
   "cell_type": "code",
   "execution_count": 13,
   "metadata": {},
   "outputs": [
    {
     "name": "stdout",
     "output_type": "stream",
     "text": [
      "&&&&&&&&&&&&&&&&&&&&&&&&&&&&&&&&&&&&&&&&\n",
      "&&&&&&&&&&*&&&&&&&&&&&&&&&&&&&&&&&&&&&&&\n",
      "&&&&&&&&&&&&&&&&&&&&&&&&&&&&&&&&&&&&&&&&\n",
      "&&&&&&&&&&&&&&& &&&&&&&&&&&&&& &&&&&&&&&\n",
      "&&&&&&&&&&&&&&&& &&&&&&&&&&&& &&&&&&&&&&\n",
      "&&    &&&&&&&&&&& &&&&&&&&&& &&&&&&&&&&&\n",
      "&&    &&&&&&&&&&&& &&&&&&&& &&&&&&&&&&&&\n",
      "&&    &&&&&&&&&&&&& &&&&&& &&&&&&&&&&&&&\n",
      "&&&&&&&&&&&&&&&&&&&& &&&&& &&&&&&&&&&&&&\n",
      "&&&&&&&&&&&&&&&&&&&&& &&& &&&&&&&&&&&&&&\n",
      "&&&&&&&&&&&&&&&&&&&&&&   &&&&&&&&&&&&&&&\n",
      "&&&&&&&&&&&&&&&&&&&&&&  &&&&&&&&&&&&&&&&\n",
      "&&&&&&&&&&&&&&&&&&&&& && &&&&&&&&&&&&&&&\n",
      "&&&&&&&&&&&&&&&&&&&& &&&& &&&&&&&&&&&&&&\n",
      "&&&&&&&&&&&&&&&&&&&& &&&&& &&&&&&&&&&&&&\n",
      "&&&&&&&&&&     &&&& &&&&&&& &&&&&&&&&&&&\n",
      "&&&&&&&&&&     &&& &&&&&&&&& &&&&&&&&&&&\n",
      "&&&&&&&&&&     && &&&&&&&&&&& &&&&&&&&&&\n",
      "&&&&&&&&&&     & &&&&&&&&&&&&& &&&&&&&&&\n",
      "&&&&&&&&&&     &&&&&&&&&&&&&&&&&&&&&&&&&\n",
      "&&&&&&&&&&&&&&&&&&&&&&&&&&&&&&&&&&&&&&&&\n",
      "&&&&&&&&&&&&&&&&&&&&&&&&&&&&&&&&&&&&&&&&\n",
      "&&&&&&&&&&&&&&&&&&&&&&&&&&&&&&&&&&&&&&&&\n",
      "&&&&&&&&&&&&&&&&&&&&&&&&&&&&&&&&&&&&&&&&\n",
      "&&&&&&&&&&&&&&&&&&&&&&&&&&&&&&&&&&&&&&&&\n",
      "&&&&&&&&&&&&&&&&&********************&&&\n",
      "&&&&&&&&&&&&&&&&*&&&&&&&&&&&&&&&***&&&&&\n",
      "&&&&&&&&&&&&&&&&&&&&&&&&&&&&&&**&&&&&&&&\n",
      "&&&&&&&&&&&&&&&*&&&&&&&&&&&***&&&&&&&&&&\n",
      "&&&&&&&&&&&&&&*&&&&&&&&&***&&&&&&&&&&&&&\n",
      "&&&&&&&&&&&&&&*&&&&&&&&*&&&&&&&&&&&&&&&&\n",
      "&&&&&&&&&&&&&*&&&&&&***&&&&&&&&&&&&&&&&&\n",
      "&&&&&&&&&&&&*&&&&***&&&&&&&&&&&&&&&&&&&&\n",
      "&&&&&&&&&&&&&&&**&&&&&&&&&&&&&&&&&&&&&&&\n",
      "&&&&&&&&&&&****&&&&&&&&&&&&&&&&&&&&&&&&&\n",
      "&&&&&&&&&&**&&&&&&&&&&&&&&&&&&&&&&&&&&&&\n",
      "&&&&&&&&&&&&&&&&&&&&&&&&&&&&&&&&&&&&&&&&\n",
      "&&&&&&&&&&&&&&&&&&&&&&&&&&&&&&&&&&&&&&&&\n",
      "&&&&&&&&&&&&&&&&&&&&&&&&&&&&&&&&&&&&&&&&\n",
      "&&&&&&&&&&&&&&&&&&&&&&&&&&&&&&&&&&&&&&&&\n"
     ]
    }
   ],
   "source": [
    "print_screen(...)"
   ]
  },
  {
   "cell_type": "code",
   "execution_count": 17,
   "metadata": {},
   "outputs": [],
   "source": [
    "sh1 = Sharp(3,4)"
   ]
  },
  {
   "cell_type": "code",
   "execution_count": 18,
   "metadata": {},
   "outputs": [],
   "source": [
    "sh1.draw()"
   ]
  },
  {
   "cell_type": "code",
   "execution_count": 19,
   "metadata": {},
   "outputs": [
    {
     "name": "stdout",
     "output_type": "stream",
     "text": [
      "&&&&&&&&&&&&&&&&&&&&&&&&&&&&&&&&&&&&&&&&\n",
      "&&&&&&&&&&*&&&&&&&&&&&&&&&&&&&&&&&&&&&&&\n",
      "&&&&&&&&&&&&&&&&&&&&&&&&&&&&&&&&&&&&&&&&\n",
      "&&&&&&&&&&&&&&& &&&&&&&&&&&&&& &&&&&&&&&\n",
      "&&&*&&&&&&&&&&&& &&&&&&&&&&&& &&&&&&&&&&\n",
      "&&    &&&&&&&&&&& &&&&&&&&&& &&&&&&&&&&&\n",
      "&&    &&&&&&&&&&&& &&&&&&&& &&&&&&&&&&&&\n",
      "&&    &&&&&&&&&&&&& &&&&&& &&&&&&&&&&&&&\n",
      "&&&&&&&&&&&&&&&&&&&& &&&&& &&&&&&&&&&&&&\n",
      "&&&&&&&&&&&&&&&&&&&&& &&& &&&&&&&&&&&&&&\n",
      "&&&&&&&&&&&&&&&&&&&&&&   &&&&&&&&&&&&&&&\n",
      "&&&&&&&&&&&&&&&&&&&&&&  &&&&&&&&&&&&&&&&\n",
      "&&&&&&&&&&&&&&&&&&&&& && &&&&&&&&&&&&&&&\n",
      "&&&&&&&&&&&&&&&&&&&& &&&& &&&&&&&&&&&&&&\n",
      "&&&&&&&&&&&&&&&&&&&& &&&&& &&&&&&&&&&&&&\n",
      "&&&&&&&&&&     &&&& &&&&&&& &&&&&&&&&&&&\n",
      "&&&&&&&&&&     &&& &&&&&&&&& &&&&&&&&&&&\n",
      "&&&&&&&&&&     && &&&&&&&&&&& &&&&&&&&&&\n",
      "&&&&&&&&&&     & &&&&&&&&&&&&& &&&&&&&&&\n",
      "&&&&&&&&&&     &&&&&&&&&&&&&&&&&&&&&&&&&\n",
      "&&&&&&&&&&&&&&&&&&&&&&&&&&&&&&&&&&&&&&&&\n",
      "&&&&&&&&&&&&&&&&&&&&&&&&&&&&&&&&&&&&&&&&\n",
      "&&&&&&&&&&&&&&&&&&&&&&&&&&&&&&&&&&&&&&&&\n",
      "&&&&&&&&&&&&&&&&&&&&&&&&&&&&&&&&&&&&&&&&\n",
      "&&&&&&&&&&&&&&&&&&&&&&&&&&&&&&&&&&&&&&&&\n",
      "&&&&&&&&&&&&&&&&&********************&&&\n",
      "&&&&&&&&&&&&&&&&*&&&&&&&&&&&&&&&***&&&&&\n",
      "&&&&&&&&&&&&&&&&&&&&&&&&&&&&&&**&&&&&&&&\n",
      "&&&&&&&&&&&&&&&*&&&&&&&&&&&***&&&&&&&&&&\n",
      "&&&&&&&&&&&&&&*&&&&&&&&&***&&&&&&&&&&&&&\n",
      "&&&&&&&&&&&&&&*&&&&&&&&*&&&&&&&&&&&&&&&&\n",
      "&&&&&&&&&&&&&*&&&&&&***&&&&&&&&&&&&&&&&&\n",
      "&&&&&&&&&&&&*&&&&***&&&&&&&&&&&&&&&&&&&&\n",
      "&&&&&&&&&&&&&&&**&&&&&&&&&&&&&&&&&&&&&&&\n",
      "&&&&&&&&&&&****&&&&&&&&&&&&&&&&&&&&&&&&&\n",
      "&&&&&&&&&&**&&&&&&&&&&&&&&&&&&&&&&&&&&&&\n",
      "&&&&&&&&&&&&&&&&&&&&&&&&&&&&&&&&&&&&&&&&\n",
      "&&&&&&&&&&&&&&&&&&&&&&&&&&&&&&&&&&&&&&&&\n",
      "&&&&&&&&&&&&&&&&&&&&&&&&&&&&&&&&&&&&&&&&\n",
      "&&&&&&&&&&&&&&&&&&&&&&&&&&&&&&&&&&&&&&&&\n"
     ]
    }
   ],
   "source": [
    "sh1...."
   ]
  },
  {
   "cell_type": "code",
   "execution_count": null,
   "metadata": {},
   "outputs": [],
   "source": []
  }
 ],
 "metadata": {
  "kernelspec": {
   "display_name": "Python 3",
   "language": "python",
   "name": "python3"
  },
  "language_info": {
   "codemirror_mode": {
    "name": "ipython",
    "version": 3
   },
   "file_extension": ".py",
   "mimetype": "text/x-python",
   "name": "python",
   "nbconvert_exporter": "python",
   "pygments_lexer": "ipython3",
   "version": "3.8.3"
  }
 },
 "nbformat": 4,
 "nbformat_minor": 2
}
