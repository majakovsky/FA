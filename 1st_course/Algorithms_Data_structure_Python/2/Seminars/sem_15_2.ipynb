{
 "cells": [
  {
   "cell_type": "markdown",
   "metadata": {},
   "source": [
    "### Работа с массивами\n",
    "### Алгоритмы сортировки"
   ]
  },
  {
   "cell_type": "markdown",
   "metadata": {},
   "source": [
    "10) Написать 4 функции порождения списка целых значений: отсортированного (по возрастанию и убыванию), случайного и почти отсортированного по возрастанию. Каждая функция принимает длину списка в качестве аргумента."
   ]
  },
  {
   "cell_type": "code",
   "execution_count": 65,
   "metadata": {},
   "outputs": [],
   "source": [
    "from random import randint"
   ]
  },
  {
   "cell_type": "code",
   "execution_count": 86,
   "metadata": {},
   "outputs": [],
   "source": [
    "def gen_sort(length=10):\n",
    "    return [i for i in range(length)]\n",
    "\n",
    "def sorted_by_descending(length=10):\n",
    "    return [i for i in range(length-1,-1,-1)]\n",
    "\n",
    "def generate(length=10):\n",
    "    return [randint(0,100) for _ in range(length)]\n",
    "\n",
    "def semi_sorted(length=10):\n",
    "    list_=gen_sort(length)\n",
    "    temp=list_[0]\n",
    "    list_[0]=list_[-1]\n",
    "    list_[-1]=temp\n",
    "    return list_"
   ]
  },
  {
   "cell_type": "code",
   "execution_count": 87,
   "metadata": {},
   "outputs": [],
   "source": [
    "def bubble_sort(a_list):\n",
    "    s,p=0,0\n",
    "    for pass_num in range(len(a_list) - 1, 0, -1):\n",
    "        for i in range(pass_num):\n",
    "            s+=1\n",
    "            if a_list[i] > a_list[i + 1]:\n",
    "                p+=1\n",
    "                temp = a_list[i]\n",
    "                a_list[i] = a_list[i + 1]\n",
    "                a_list[i + 1] = temp\n",
    "    return a_list,s,p\n",
    "\n",
    "\n",
    "def bubble_sort_2(a_list):\n",
    "    s,p=0,0\n",
    "    for pass_num in range(len(a_list) - 1, 0, -1):\n",
    "        flag = False\n",
    "        for i in range(pass_num):\n",
    "            s+=1\n",
    "            if a_list[i] > a_list[i + 1]:\n",
    "                p+=1\n",
    "                temp = a_list[i]\n",
    "                a_list[i] = a_list[i + 1]\n",
    "                a_list[i + 1] = temp\n",
    "                flag = True\n",
    "        if not flag:\n",
    "            return a_list,s,p\n",
    "    return a_list,s,p\n",
    "\n",
    "def cocktail_sort(arr):\n",
    "    r_side = len(arr) - 1\n",
    "    l_side = 0\n",
    "    s,p=0,0\n",
    "    while (l_side <= r_side):\n",
    "        for i in range(l_side, r_side):\n",
    "            s+=1\n",
    "            if arr[i] > arr[i+1]:\n",
    "                p+=1\n",
    "                arr[i], arr[i+1] = arr[i+1], arr[i]\n",
    "        r_side-=1\n",
    "        for i in range(r_side, l_side, -1):\n",
    "            s+=1\n",
    "            if arr[i] < arr[i-1]:\n",
    "                p+=1\n",
    "                arr[i-1], arr[i] = arr[i], arr[i-1]\n",
    "        l_side+=1\n",
    "    return arr,s,p\n",
    "    "
   ]
  },
  {
   "cell_type": "code",
   "execution_count": 73,
   "metadata": {},
   "outputs": [
    {
     "name": "stdout",
     "output_type": "stream",
     "text": [
      "([1, 2, 3, 3, 4, 6, 6, 7, 8, 9, 99, 100], 66, 33)\n"
     ]
    }
   ],
   "source": [
    "lst11=[100,9,8,1,2,3,4,7,6,3,6,99]\n",
    "print(cocktail_sort(lst11))"
   ]
  },
  {
   "cell_type": "code",
   "execution_count": 77,
   "metadata": {},
   "outputs": [
    {
     "data": {
      "text/plain": [
       "([1, 2, 3, 3, 4, 6, 6, 7, 8, 9, 99, 100], 56, 33)"
      ]
     },
     "execution_count": 77,
     "metadata": {},
     "output_type": "execute_result"
    }
   ],
   "source": [
    "l=[100,9,8,1,2,3,4,7,6,3,6,99]\n",
    "bubble_sort_2(l)"
   ]
  },
  {
   "cell_type": "markdown",
   "metadata": {},
   "source": [
    "11) Реализовать функцию тестирования алгоритма сортировки. Процедура принимает на вход алгоритм сортировки и алгоритм порождения списка f_gen(list_len), генерирующий список заданной длины, количество повтороений теста и список длин использующихся для тестирования.\n",
    "Для каждой длины списка функция тестирования возвращает минимальное, среднее и наибольшее количество сравнений и перестановок."
   ]
  },
  {
   "cell_type": "code",
   "execution_count": 88,
   "metadata": {},
   "outputs": [],
   "source": [
    "def testing(sorting, f_gen, repeat, lst_of_len):\n",
    "    dic = {}\n",
    "    for len_ in lst_of_len:\n",
    "        max_s = 0\n",
    "        min_s = 0\n",
    "        max_p = 0\n",
    "        min_p = 0\n",
    "        lst_s = []\n",
    "        lst_p = []\n",
    "        for _ in range(repeat):\n",
    "            l, s, p = sorting(f_gen(len_))\n",
    "           # print(l, s, p)\n",
    "            max_p = max(p, max_p)\n",
    "            max_s = max(s, max_s)\n",
    "            if min_p == 0:\n",
    "                min_p = p\n",
    "            if min_s == 0:\n",
    "                min_s = s\n",
    "            min_p = min(p, min_p)\n",
    "            min_s = min(s, min_s)\n",
    "            lst_s.append(s)\n",
    "            lst_p.append(p)\n",
    "        dic[len_] = dict(max_s=max_s, min_s =min_s, max_p=max_p, min_p=min_p, average_s=sum(lst_s)/len(lst_s), average_p=sum(lst_p)/len(lst_p))\n",
    "    return dic\n"
   ]
  },
  {
   "cell_type": "code",
   "execution_count": 89,
   "metadata": {},
   "outputs": [
    {
     "data": {
      "text/plain": [
       "{10: {'max_s': 45,\n",
       "  'min_s': 45,\n",
       "  'max_p': 33,\n",
       "  'min_p': 15,\n",
       "  'average_s': 45.0,\n",
       "  'average_p': 24.45},\n",
       " 100: {'max_s': 4950,\n",
       "  'min_s': 4950,\n",
       "  'max_p': 2623,\n",
       "  'min_p': 2086,\n",
       "  'average_s': 4950.0,\n",
       "  'average_p': 2423.9},\n",
       " 1000: {'max_s': 499500,\n",
       "  'min_s': 499500,\n",
       "  'max_p': 257688,\n",
       "  'min_p': 236952,\n",
       "  'average_s': 499500.0,\n",
       "  'average_p': 244805.75}}"
      ]
     },
     "execution_count": 89,
     "metadata": {},
     "output_type": "execute_result"
    }
   ],
   "source": [
    "testing(cocktail_sort, generate, 20, [10,100,1000])"
   ]
  },
  {
   "cell_type": "code",
   "execution_count": 82,
   "metadata": {},
   "outputs": [
    {
     "data": {
      "text/plain": [
       "{10: {'max_s': 45,\n",
       "  'min_s': 45,\n",
       "  'max_p': 32,\n",
       "  'min_p': 8,\n",
       "  'average_s': 45.0,\n",
       "  'average_p': 21.6},\n",
       " 100: {'max_s': 4950,\n",
       "  'min_s': 4950,\n",
       "  'max_p': 2779,\n",
       "  'min_p': 2143,\n",
       "  'average_s': 4950.0,\n",
       "  'average_p': 2428.2},\n",
       " 1000: {'max_s': 499500,\n",
       "  'min_s': 499500,\n",
       "  'max_p': 252580,\n",
       "  'min_p': 237694,\n",
       "  'average_s': 499500.0,\n",
       "  'average_p': 246389.55}}"
      ]
     },
     "execution_count": 82,
     "metadata": {},
     "output_type": "execute_result"
    }
   ],
   "source": [
    "testing(bubble_sort, generate, 20, [10,100,1000])"
   ]
  },
  {
   "cell_type": "code",
   "execution_count": 85,
   "metadata": {},
   "outputs": [
    {
     "data": {
      "text/plain": [
       "{10: {'max_s': 9,\n",
       "  'min_s': 9,\n",
       "  'max_p': 0,\n",
       "  'min_p': 0,\n",
       "  'average_s': 9.0,\n",
       "  'average_p': 0.0},\n",
       " 100: {'max_s': 99,\n",
       "  'min_s': 99,\n",
       "  'max_p': 0,\n",
       "  'min_p': 0,\n",
       "  'average_s': 99.0,\n",
       "  'average_p': 0.0},\n",
       " 1000: {'max_s': 999,\n",
       "  'min_s': 999,\n",
       "  'max_p': 0,\n",
       "  'min_p': 0,\n",
       "  'average_s': 999.0,\n",
       "  'average_p': 0.0}}"
      ]
     },
     "execution_count": 85,
     "metadata": {},
     "output_type": "execute_result"
    }
   ],
   "source": [
    "testing(bubble_sort_2, gen_sort, 20, [10,100,1000])"
   ]
  },
  {
   "cell_type": "code",
   "execution_count": 84,
   "metadata": {},
   "outputs": [
    {
     "data": {
      "text/plain": [
       "{10: {'max_s': 45,\n",
       "  'min_s': 30,\n",
       "  'max_p': 31,\n",
       "  'min_p': 9,\n",
       "  'average_s': 41.2,\n",
       "  'average_p': 21.65},\n",
       " 100: {'max_s': 4950,\n",
       "  'min_s': 4719,\n",
       "  'max_p': 2803,\n",
       "  'min_p': 2215,\n",
       "  'average_s': 4891.7,\n",
       "  'average_p': 2516.7},\n",
       " 1000: {'max_s': 499464,\n",
       "  'min_s': 495930,\n",
       "  'max_p': 265031,\n",
       "  'min_p': 237649,\n",
       "  'average_s': 498381.95,\n",
       "  'average_p': 248857.45}}"
      ]
     },
     "execution_count": 84,
     "metadata": {},
     "output_type": "execute_result"
    }
   ],
   "source": [
    "testing(bubble_sort_2, generate, 20, [10,100,1000])"
   ]
  },
  {
   "cell_type": "markdown",
   "metadata": {},
   "source": [
    "12) Реализовать модификацию сортировки пузырьком: \"камешек-пузырек\" - с чередующимися проходами, приводящими к \"всплытию\" самого большого значения списка и \"погружению\" самого маленького значения из неотсортированной части списка."
   ]
  },
  {
   "cell_type": "code",
   "execution_count": 40,
   "metadata": {},
   "outputs": [],
   "source": [
    "test = [12,15,64, 21, 93, 102, 0, -5, -25, 96]"
   ]
  },
  {
   "cell_type": "code",
   "execution_count": 41,
   "metadata": {},
   "outputs": [
    {
     "name": "stdout",
     "output_type": "stream",
     "text": [
      "[-25, -5, 0, 12, 15, 21, 64, 93, 96, 102]\n"
     ]
    }
   ],
   "source": [
    "cocktail_sort(test)\n",
    "print(test)"
   ]
  },
  {
   "cell_type": "markdown",
   "metadata": {
    "collapsed": true
   },
   "source": [
    "13) Добавить в сортировку счетчик количества операций перестановки и счетчик количества сравнений. Возвращать счетчики вместе с отсортированным списком."
   ]
  },
  {
   "cell_type": "code",
   "execution_count": 42,
   "metadata": {},
   "outputs": [
    {
     "name": "stdout",
     "output_type": "stream",
     "text": [
      "([-25, -5, 0, 12, 12, 15, 15, 17, 21, 22, 32, 33, 44, 45, 55, 64, 66, 77, 78, 88, 93, 96, 99, 102], 276, 117)\n",
      "([-25, -5, 0, 12, 15, 21, 64, 93, 96, 102], 45, 23)\n",
      "([-25, -5, 0, 12, 15, 21, 64, 93, 96, 102], 45, 23)\n"
     ]
    }
   ],
   "source": [
    "test = [12,15,64, 21, 93, 102, 0, -5, -25, 96, 22,33,44,55,66,77,88,99,12,15,17,78,45,32]\n",
    "print(cocktail_sort(test))\n",
    "test = [12,15,64, 21, 93, 102, 0, -5, -25, 96]\n",
    "print(bubble_sort(test))\n",
    "test = [12,15,64, 21, 93, 102, 0, -5, -25, 96]\n",
    "print(bubble_sort_2(test))"
   ]
  },
  {
   "cell_type": "code",
   "execution_count": 43,
   "metadata": {},
   "outputs": [],
   "source": [
    "from random import randint\n",
    "from copy import copy"
   ]
  },
  {
   "cell_type": "code",
   "execution_count": null,
   "metadata": {},
   "outputs": [],
   "source": []
  },
  {
   "cell_type": "markdown",
   "metadata": {},
   "source": [
    "14) Протестировать алгоритм \"пузырек\" и \"камешек-пузырек\" на разных типах списков."
   ]
  },
  {
   "cell_type": "code",
   "execution_count": 44,
   "metadata": {},
   "outputs": [
    {
     "data": {
      "text/plain": [
       "{1000: {'max_s': 499500,\n",
       "  'min_s': 499500,\n",
       "  'max_p': 0,\n",
       "  'min_p': 0,\n",
       "  'average_s': 499500.0,\n",
       "  'average_p': 0.0}}"
      ]
     },
     "execution_count": 44,
     "metadata": {},
     "output_type": "execute_result"
    }
   ],
   "source": [
    "testing(bubble_sort, gen_sort, 20, [1000])"
   ]
  },
  {
   "cell_type": "code",
   "execution_count": 45,
   "metadata": {},
   "outputs": [
    {
     "data": {
      "text/plain": [
       "{1000: {'max_s': 499500,\n",
       "  'min_s': 499500,\n",
       "  'max_p': 499500,\n",
       "  'min_p': 499500,\n",
       "  'average_s': 499500.0,\n",
       "  'average_p': 499500.0}}"
      ]
     },
     "execution_count": 45,
     "metadata": {},
     "output_type": "execute_result"
    }
   ],
   "source": [
    "testing(bubble_sort, sorted_by_descending, 20, [1000])"
   ]
  },
  {
   "cell_type": "code",
   "execution_count": 46,
   "metadata": {},
   "outputs": [
    {
     "data": {
      "text/plain": [
       "{1000: {'max_s': 499500,\n",
       "  'min_s': 499500,\n",
       "  'max_p': 256479,\n",
       "  'min_p': 234334,\n",
       "  'average_s': 499500.0,\n",
       "  'average_p': 246594.05}}"
      ]
     },
     "execution_count": 46,
     "metadata": {},
     "output_type": "execute_result"
    }
   ],
   "source": [
    "testing(bubble_sort, generate, 20, [1000])"
   ]
  },
  {
   "cell_type": "code",
   "execution_count": 47,
   "metadata": {},
   "outputs": [
    {
     "data": {
      "text/plain": [
       "{1000: {'max_s': 499500,\n",
       "  'min_s': 499500,\n",
       "  'max_p': 1997,\n",
       "  'min_p': 1997,\n",
       "  'average_s': 499500.0,\n",
       "  'average_p': 1997.0}}"
      ]
     },
     "execution_count": 47,
     "metadata": {},
     "output_type": "execute_result"
    }
   ],
   "source": [
    "testing(bubble_sort, semi_sorted, 20, [1000])"
   ]
  },
  {
   "cell_type": "code",
   "execution_count": 48,
   "metadata": {},
   "outputs": [
    {
     "data": {
      "text/plain": [
       "{1000: {'max_s': 999,\n",
       "  'min_s': 999,\n",
       "  'max_p': 0,\n",
       "  'min_p': 0,\n",
       "  'average_s': 999.0,\n",
       "  'average_p': 0.0}}"
      ]
     },
     "execution_count": 48,
     "metadata": {},
     "output_type": "execute_result"
    }
   ],
   "source": [
    "testing(bubble_sort_2, gen_sort, 20, [1000])"
   ]
  },
  {
   "cell_type": "code",
   "execution_count": 49,
   "metadata": {},
   "outputs": [
    {
     "data": {
      "text/plain": [
       "{1000: {'max_s': 499500,\n",
       "  'min_s': 499500,\n",
       "  'max_p': 499500,\n",
       "  'min_p': 499500,\n",
       "  'average_s': 499500.0,\n",
       "  'average_p': 499500.0}}"
      ]
     },
     "execution_count": 49,
     "metadata": {},
     "output_type": "execute_result"
    }
   ],
   "source": [
    "testing(bubble_sort_2, sorted_by_descending, 20, [1000])"
   ]
  },
  {
   "cell_type": "code",
   "execution_count": 50,
   "metadata": {},
   "outputs": [
    {
     "data": {
      "text/plain": [
       "{1000: {'max_s': 499409,\n",
       "  'min_s': 495845,\n",
       "  'max_p': 262777,\n",
       "  'min_p': 241184,\n",
       "  'average_s': 498262.85,\n",
       "  'average_p': 249460.55}}"
      ]
     },
     "execution_count": 50,
     "metadata": {},
     "output_type": "execute_result"
    }
   ],
   "source": [
    "testing(bubble_sort_2, generate, 20, [1000])"
   ]
  },
  {
   "cell_type": "code",
   "execution_count": 51,
   "metadata": {},
   "outputs": [
    {
     "data": {
      "text/plain": [
       "{1000: {'max_s': 499500,\n",
       "  'min_s': 499500,\n",
       "  'max_p': 1997,\n",
       "  'min_p': 1997,\n",
       "  'average_s': 499500.0,\n",
       "  'average_p': 1997.0}}"
      ]
     },
     "execution_count": 51,
     "metadata": {},
     "output_type": "execute_result"
    }
   ],
   "source": [
    "testing(bubble_sort_2, semi_sorted, 20, [1000])"
   ]
  },
  {
   "cell_type": "code",
   "execution_count": 52,
   "metadata": {},
   "outputs": [
    {
     "data": {
      "text/plain": [
       "{1000: {'max_s': 499500,\n",
       "  'min_s': 499500,\n",
       "  'max_p': 0,\n",
       "  'min_p': 0,\n",
       "  'average_s': 499500.0,\n",
       "  'average_p': 0.0}}"
      ]
     },
     "execution_count": 52,
     "metadata": {},
     "output_type": "execute_result"
    }
   ],
   "source": [
    "testing(cocktail_sort, gen_sort, 20, [1000])"
   ]
  },
  {
   "cell_type": "code",
   "execution_count": 53,
   "metadata": {},
   "outputs": [
    {
     "data": {
      "text/plain": [
       "{1000: {'max_s': 499500,\n",
       "  'min_s': 499500,\n",
       "  'max_p': 499500,\n",
       "  'min_p': 499500,\n",
       "  'average_s': 499500.0,\n",
       "  'average_p': 499500.0}}"
      ]
     },
     "execution_count": 53,
     "metadata": {},
     "output_type": "execute_result"
    }
   ],
   "source": [
    "testing(cocktail_sort, sorted_by_descending, 20, [1000])"
   ]
  },
  {
   "cell_type": "code",
   "execution_count": 54,
   "metadata": {},
   "outputs": [
    {
     "data": {
      "text/plain": [
       "{1000: {'max_s': 499500,\n",
       "  'min_s': 499500,\n",
       "  'max_p': 259614,\n",
       "  'min_p': 240236,\n",
       "  'average_s': 499500.0,\n",
       "  'average_p': 247415.45}}"
      ]
     },
     "execution_count": 54,
     "metadata": {},
     "output_type": "execute_result"
    }
   ],
   "source": [
    "testing(cocktail_sort, generate, 20, [1000])"
   ]
  },
  {
   "cell_type": "code",
   "execution_count": 55,
   "metadata": {},
   "outputs": [
    {
     "data": {
      "text/plain": [
       "{1000: {'max_s': 499500,\n",
       "  'min_s': 499500,\n",
       "  'max_p': 1997,\n",
       "  'min_p': 1997,\n",
       "  'average_s': 499500.0,\n",
       "  'average_p': 1997.0}}"
      ]
     },
     "execution_count": 55,
     "metadata": {},
     "output_type": "execute_result"
    }
   ],
   "source": [
    "testing(cocktail_sort, semi_sorted, 20, [1000])"
   ]
  },
  {
   "cell_type": "markdown",
   "metadata": {},
   "source": [
    "15) Реализовать модификацию сортировки выбором на основе выбора из подсписков (описанного в лекции). Протестировать алгоритм."
   ]
  },
  {
   "cell_type": "code",
   "execution_count": 56,
   "metadata": {},
   "outputs": [
    {
     "name": "stdout",
     "output_type": "stream",
     "text": [
      "[12, 1, 64, 21, 93, 10, 0, -5, -25, 96, 22]\n",
      "[-25, -5, 0, 1, 10, 12, 21, 22, 64, 93, 96]\n"
     ]
    }
   ],
   "source": [
    "def selection_sort(a_list):\n",
    "    for fill_slot in range(len(a_list) - 1, 0, -1):\n",
    "        pos_of_max = 0\n",
    "        for location in range(1, fill_slot + 1):\n",
    "            if a_list[location] > a_list[pos_of_max]:\n",
    "                pos_of_max = location\n",
    "        \n",
    "        temp = a_list[fill_slot]\n",
    "        a_list[fill_slot] = a_list[pos_of_max]\n",
    "        a_list[pos_of_max] = temp\n",
    "    return a_list\n",
    "a = [12,1,64, 21, 93, 10, 0, -5, -25, 96, 22]\n",
    "print(a)\n",
    "print(selection_sort(a))\n"
   ]
  },
  {
   "cell_type": "markdown",
   "metadata": {},
   "source": [
    "16) Реализовать быструю сортировку с возможностью подсчета операций. Сравнить производительность алгоритма на случайных и упорядоченных (и почти упорядоченных) данных."
   ]
  },
  {
   "cell_type": "code",
   "execution_count": 57,
   "metadata": {},
   "outputs": [],
   "source": [
    "def quick_sort(a_list):\n",
    "    s = [0]\n",
    "    p = [0]\n",
    "    quick_sort_helper(a_list, 0, len(a_list) - 1, s, p)\n",
    "    return a_list, s[0], p[0]\n",
    "\n",
    "def quick_sort_helper(a_list, first, last, s, p):\n",
    "    if first < last:\n",
    "\n",
    "        split_point, s, p = partition(a_list, first, last, s, p)\n",
    "\n",
    "        quick_sort_helper(a_list, first, split_point - 1, s, p)\n",
    "        quick_sort_helper(a_list, split_point + 1, last, s, p)\n",
    "\n",
    "def partition(a_list, first, last, s, p):\n",
    "    pivot_value = a_list[first]\n",
    "\n",
    "    left_mark = first + 1\n",
    "    right_mark = last\n",
    "\n",
    "    done = False\n",
    "    while not done:\n",
    "\n",
    "        while left_mark <= right_mark and a_list[left_mark] <= pivot_value:\n",
    "            s[0] += 2\n",
    "            left_mark += 1\n",
    "\n",
    "        while a_list[right_mark] >= pivot_value and right_mark >= left_mark:\n",
    "            s[0] += 2\n",
    "            right_mark -= 1\n",
    "        \n",
    "        s[0] += 1\n",
    "        if right_mark < left_mark:\n",
    "            done = True\n",
    "        else:\n",
    "            p[0] += 2\n",
    "            a_list[left_mark], a_list[right_mark] = a_list[right_mark], a_list[left_mark]\n",
    "    \n",
    "    s[0] += 4\n",
    "    a_list[first], a_list[right_mark] = a_list[right_mark], a_list[first]\n",
    "    p[0] += 2\n",
    "    return right_mark, s, p            "
   ]
  },
  {
   "cell_type": "code",
   "execution_count": 58,
   "metadata": {},
   "outputs": [],
   "source": [
    "test = [1, 2, 5, 7, 2, 9, 15, -100, 123, 43]"
   ]
  },
  {
   "cell_type": "code",
   "execution_count": 59,
   "metadata": {},
   "outputs": [
    {
     "name": "stdout",
     "output_type": "stream",
     "text": [
      "([-100, 1, 2, 2, 5, 7, 9, 15, 43, 123], 81, 18)\n"
     ]
    }
   ],
   "source": [
    "print(quick_sort(test))"
   ]
  },
  {
   "cell_type": "code",
   "execution_count": 60,
   "metadata": {},
   "outputs": [
    {
     "name": "stdout",
     "output_type": "stream",
     "text": [
      "{10: {'max_s': 99, 'min_s': 67, 'max_p': 22, 'min_p': 16, 'average_s': 83.15, 'average_p': 18.7}, 100: {'max_s': 1955, 'min_s': 1594, 'max_p': 328, 'min_p': 298, 'average_s': 1767.2, 'average_p': 315.8}, 1000: {'max_s': 37237, 'min_s': 29402, 'max_p': 4254, 'min_p': 4046, 'average_s': 31954.15, 'average_p': 4179.5}}\n",
      "{10: {'max_s': 45, 'min_s': 45, 'max_p': 30, 'min_p': 13, 'average_s': 45.0, 'average_p': 20.25}, 100: {'max_s': 4950, 'min_s': 4950, 'max_p': 2714, 'min_p': 2130, 'average_s': 4950.0, 'average_p': 2389.55}, 1000: {'max_s': 499500, 'min_s': 499500, 'max_p': 258958, 'min_p': 236749, 'average_s': 499500.0, 'average_p': 247521.05}}\n"
     ]
    }
   ],
   "source": [
    "print(testing(quick_sort, generate, 20, [10, 100, 1000]))\n",
    "print(testing(bubble_sort, generate, 20, [10, 100, 1000]))"
   ]
  },
  {
   "cell_type": "code",
   "execution_count": 61,
   "metadata": {},
   "outputs": [
    {
     "name": "stdout",
     "output_type": "stream",
     "text": [
      "{10: {'max_s': 135, 'min_s': 135, 'max_p': 18, 'min_p': 18, 'average_s': 135.0, 'average_p': 18.0}, 100: {'max_s': 10395, 'min_s': 10395, 'max_p': 198, 'min_p': 198, 'average_s': 10395.0, 'average_p': 198.0}, 1000: {'max_s': 1003995, 'min_s': 1003995, 'max_p': 1998, 'min_p': 1998, 'average_s': 1003995.0, 'average_p': 1998.0}}\n"
     ]
    }
   ],
   "source": [
    "print(testing(quick_sort, gen_sort, 20, [10, 100, 1000]))"
   ]
  },
  {
   "cell_type": "code",
   "execution_count": 63,
   "metadata": {},
   "outputs": [
    {
     "name": "stdout",
     "output_type": "stream",
     "text": [
      "{10: {'max_s': 135, 'min_s': 135, 'max_p': 18, 'min_p': 18, 'average_s': 135.0, 'average_p': 18.0}, 100: {'max_s': 10395, 'min_s': 10395, 'max_p': 198, 'min_p': 198, 'average_s': 10395.0, 'average_p': 198.0}, 1000: {'max_s': 1003995, 'min_s': 1003995, 'max_p': 1998, 'min_p': 1998, 'average_s': 1003995.0, 'average_p': 1998.0}}\n"
     ]
    }
   ],
   "source": [
    "print(testing(quick_sort, semi_sorted, 20, [10, 100, 1000]))"
   ]
  },
  {
   "cell_type": "markdown",
   "metadata": {},
   "source": [
    "17) Улучшить работу быстрой сортировки на упорядоченных и почти упорядоченных за счет изменения алгоритма выбора элемента для разделения массива."
   ]
  },
  {
   "cell_type": "code",
   "execution_count": null,
   "metadata": {},
   "outputs": [],
   "source": []
  },
  {
   "cell_type": "code",
   "execution_count": 64,
   "metadata": {},
   "outputs": [
    {
     "name": "stdout",
     "output_type": "stream",
     "text": [
      "{10: {'max_s': 101, 'min_s': 72, 'max_p': 22, 'min_p': 14, 'average_s': 82.7, 'average_p': 18.333333333333332}, 100: {'max_s': 2007, 'min_s': 1611, 'max_p': 336, 'min_p': 302, 'average_s': 1759.4, 'average_p': 316.93333333333334}, 1000: {'max_s': 35029, 'min_s': 29849, 'max_p': 4294, 'min_p': 4082, 'average_s': 31809.333333333332, 'average_p': 4201.6}}\n"
     ]
    },
    {
     "ename": "NameError",
     "evalue": "name 'quick_sort2' is not defined",
     "output_type": "error",
     "traceback": [
      "\u001b[1;31m---------------------------------------------------------------------------\u001b[0m",
      "\u001b[1;31mNameError\u001b[0m                                 Traceback (most recent call last)",
      "\u001b[1;32m<ipython-input-64-230d0e518c7b>\u001b[0m in \u001b[0;36m<module>\u001b[1;34m\u001b[0m\n\u001b[0;32m      1\u001b[0m \u001b[0mprint\u001b[0m\u001b[1;33m(\u001b[0m\u001b[0mtesting\u001b[0m\u001b[1;33m(\u001b[0m\u001b[0mquick_sort\u001b[0m\u001b[1;33m,\u001b[0m \u001b[0mgenerate\u001b[0m\u001b[1;33m,\u001b[0m \u001b[1;36m30\u001b[0m\u001b[1;33m,\u001b[0m \u001b[1;33m[\u001b[0m\u001b[1;36m10\u001b[0m\u001b[1;33m,\u001b[0m \u001b[1;36m100\u001b[0m\u001b[1;33m,\u001b[0m \u001b[1;36m1000\u001b[0m\u001b[1;33m]\u001b[0m\u001b[1;33m)\u001b[0m\u001b[1;33m)\u001b[0m\u001b[1;33m\u001b[0m\u001b[1;33m\u001b[0m\u001b[0m\n\u001b[1;32m----> 2\u001b[1;33m \u001b[0mprint\u001b[0m\u001b[1;33m(\u001b[0m\u001b[0mtesting\u001b[0m\u001b[1;33m(\u001b[0m\u001b[0mquick_sort2\u001b[0m\u001b[1;33m,\u001b[0m \u001b[0mgenerate\u001b[0m\u001b[1;33m,\u001b[0m \u001b[1;36m30\u001b[0m\u001b[1;33m,\u001b[0m \u001b[1;33m[\u001b[0m\u001b[1;36m10\u001b[0m\u001b[1;33m,\u001b[0m \u001b[1;36m100\u001b[0m\u001b[1;33m,\u001b[0m \u001b[1;36m1000\u001b[0m\u001b[1;33m]\u001b[0m\u001b[1;33m)\u001b[0m\u001b[1;33m)\u001b[0m\u001b[1;33m\u001b[0m\u001b[1;33m\u001b[0m\u001b[0m\n\u001b[0m",
      "\u001b[1;31mNameError\u001b[0m: name 'quick_sort2' is not defined"
     ]
    }
   ],
   "source": [
    "print(testing(quick_sort, generate, 30, [10, 100, 1000]))\n",
    "#print(testing(quick_sort2, generate, 30, [10, 100, 1000]))"
   ]
  },
  {
   "cell_type": "code",
   "execution_count": 27,
   "metadata": {},
   "outputs": [
    {
     "name": "stdout",
     "output_type": "stream",
     "text": [
      "{10: {'max_s': 135, 'min_s': 135, 'max_p': 18, 'min_p': 18, 'average_s': 135.0, 'average_p': 18.0}, 100: {'max_s': 10395, 'min_s': 10282, 'max_p': 198, 'min_p': 196, 'average_s': 10387.166666666666, 'average_p': 197.8}, 1000: {'max_s': 1001545, 'min_s': 990121, 'max_p': 1992, 'min_p': 1966, 'average_s': 996469.7666666667, 'average_p': 1982.4666666666667}}\n",
      "{10: {'max_s': 77, 'min_s': 77, 'max_p': 14, 'min_p': 14, 'average_s': 77.0, 'average_p': 14.0}, 100: {'max_s': 3903, 'min_s': 3903, 'max_p': 186, 'min_p': 186, 'average_s': 3903.0, 'average_p': 186.0}, 1000: {'max_s': 333744, 'min_s': 128171, 'max_p': 1968, 'min_p': 1886, 'average_s': 232001.36666666667, 'average_p': 1916.8666666666666}}\n"
     ]
    }
   ],
   "source": [
    "print(testing(quick_sort, gen_sort, 30, [10, 100, 1000]))\n",
    "print(testing(quick_sort2, gen_sort, 30, [10, 100, 1000]))"
   ]
  },
  {
   "cell_type": "markdown",
   "metadata": {},
   "source": [
    "18) Реализовать эффективный алгоритм получения из большого количества отсортированных списков одного отсортированного списка."
   ]
  },
  {
   "cell_type": "code",
   "execution_count": 20,
   "metadata": {},
   "outputs": [],
   "source": [
    "def sort(list_of_lists):\n",
    "    while len(list_of_lists)>1:\n",
    "        first_item=list_of_lists.pop()\n",
    "        second_item=list_of_lists.pop()\n",
    "        i,j,a_list=0,0,[]\n",
    "        while i < len(first_item) and j < len(second_item):\n",
    "            if first_item[i] < second_item[j]:\n",
    "                a_list.append(first_item[i])\n",
    "                i += 1\n",
    "            else:\n",
    "                a_list.append(second_item[j])\n",
    "                j += 1\n",
    "\n",
    "        while i < len(first_item):\n",
    "            a_list.append(first_item[i])\n",
    "            i += 1\n",
    "\n",
    "        while j < len(second_item):\n",
    "            a_list.append(second_item[j])\n",
    "            j += 1\n",
    "        \n",
    "        list_of_lists.append(list(a_list))\n",
    "    return list_of_lists[0]"
   ]
  },
  {
   "cell_type": "code",
   "execution_count": 21,
   "metadata": {},
   "outputs": [
    {
     "name": "stdout",
     "output_type": "stream",
     "text": [
      "[-78.1512, -38, -37, -9.37, -0.1, 0, 0, 1, 4, 5, 5, 6, 6, 7, 7, 7, 7, 8, 13.26362, 14, 15]\n"
     ]
    }
   ],
   "source": [
    "s = [[0, 1, 5, 6, 7], [-9.37, 4, 6, 8, 13.26362, 15], [-0.1, 7, 7, 7, 14], [-78.1512, -38, -37, 0, 5]]\n",
    "lst = sort(s)\n",
    "print(lst)"
   ]
  },
  {
   "cell_type": "markdown",
   "metadata": {},
   "source": [
    "19) Модифицировать последовательность длин шагов в сортировке Шелла.\n",
    "\n",
    "На $2[n/2^{k+1}]+1$\n",
    "\n",
    "т.е. при первой сортировке будут использоваться шаги: 2*[n/4]+1, 2*[n/8]+1, ... , 3, 1 ."
   ]
  },
  {
   "cell_type": "code",
   "execution_count": 1,
   "metadata": {},
   "outputs": [],
   "source": [
    "def gap_insertion_sort(a_list, start, gap):\n",
    "    for i in range(start + gap, len(a_list), gap):\n",
    "        current_value = a_list[i]\n",
    "        position = i\n",
    "        \n",
    "        while position >= gap and a_list[position - gap] > current_value:\n",
    "            a_list[position] = a_list[position - gap]\n",
    "            position = position - gap\n",
    "\n",
    "        a_list[position] = current_value  \n",
    "        \n",
    "def shell_sort(a_list):\n",
    "    k=1\n",
    "    sublist_count = 2\n",
    "    while sublist_count > 1:\n",
    "        sublist_count = 2*(len(a_list)//(pow(2,k+1)))+1\n",
    "        for start_position in range(sublist_count):\n",
    "            gap_insertion_sort(a_list, start_position, sublist_count)\n",
    "\n",
    "        print(\"After inc. of size\", sublist_count, \"Lst:\", a_list)\n",
    "        k+=1"
   ]
  },
  {
   "cell_type": "code",
   "execution_count": 2,
   "metadata": {},
   "outputs": [],
   "source": [
    "test = [0, 32, 543, 123, -4032, 234, -1232, 223, 94832, 111, -93443, -234]"
   ]
  },
  {
   "cell_type": "code",
   "execution_count": 32,
   "metadata": {},
   "outputs": [
    {
     "name": "stdout",
     "output_type": "stream",
     "text": [
      "After increments of size 7 The list is [0, 32, 111, -93443, -4032, 234, -1232, 223, 94832, 543, 123, -234]\n",
      "After increments of size 3 The list is [-93443, -4032, -234, -1232, 32, 111, 0, 123, 234, 543, 223, 94832]\n",
      "After increments of size 1 The list is [-93443, -4032, -1232, -234, 0, 32, 111, 123, 223, 234, 543, 94832]\n"
     ]
    }
   ],
   "source": [
    "shell_sort(test)"
   ]
  }
 ],
 "metadata": {
  "anaconda-cloud": {},
  "kernelspec": {
   "display_name": "Python 3",
   "language": "python",
   "name": "python3"
  },
  "language_info": {
   "codemirror_mode": {
    "name": "ipython",
    "version": 3
   },
   "file_extension": ".py",
   "mimetype": "text/x-python",
   "name": "python",
   "nbconvert_exporter": "python",
   "pygments_lexer": "ipython3",
   "version": "3.8.3"
  }
 },
 "nbformat": 4,
 "nbformat_minor": 1
}
