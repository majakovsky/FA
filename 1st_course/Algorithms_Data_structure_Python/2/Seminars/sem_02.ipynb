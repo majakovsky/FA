{
 "cells": [
  {
   "cell_type": "markdown",
   "metadata": {},
   "source": [
    "Задачи семинара 17.02.2021"
   ]
  },
  {
   "cell_type": "code",
   "execution_count": 143,
   "metadata": {},
   "outputs": [],
   "source": [
    "class Sharp(object):\n",
    "    def __init__(self,x,y):\n",
    "        self.__x = x\n",
    "        self.__y = y\n",
    "        self.screen=[['.']*20 for _ in range(20)] #создание доски\n",
    "        \n",
    "    def print_screen(self):            #вывод\n",
    "        for line in self.screen:\n",
    "            for symb in line:\n",
    "                print(symb, end='')\n",
    "            print()\n",
    "    @property\n",
    "    def x(self):\n",
    "        return self.__x\n",
    "    \n",
    "    @property\n",
    "    def y(self):\n",
    "        return self.__y\n",
    "                  \n",
    "    def draw(self):\n",
    "        self.screen=[['.']*20 for _ in range(20)]   #заполнение доски фигурой\n",
    "        self.screen[self.__y-1][self.__x-1]='*'\n",
    "        self.print_screen()\n",
    "    \n",
    "    \n",
    "    def ss(self):\n",
    "        print('площадь равна  =  0')      #площадь для точки\n",
    "            "
   ]
  },
  {
   "cell_type": "code",
   "execution_count": 117,
   "metadata": {},
   "outputs": [],
   "source": [
    "class Rect(Sharp):\n",
    "    def __init__(self,x,y,x2,y2):\n",
    "        self.__x = x\n",
    "        self.__y = y\n",
    "        self.screen=[['.']*20 for _ in range(20)]      #создание доски\n",
    "        self.__x2=x2\n",
    "        self.__y2 = y2\n",
    "    def draw(self):\n",
    "        for i in range(self.__x,self.__x2+1):\n",
    "            for j in range(self.__y,self.__y2+1):\n",
    "                self.screen[j][i]='*'                         \n",
    "                \n",
    "                                                         #заполнение прямоугольника\n",
    "        self.print_screen()\n",
    "        \n",
    "        \n",
    "    def ss(self):\n",
    "        print('площадь равна  = ',(self.__x2-self.__x+1)*(self.__y2-self.__y+1)) #площадь произведение сторон"
   ]
  },
  {
   "cell_type": "code",
   "execution_count": 118,
   "metadata": {},
   "outputs": [
    {
     "name": "stdout",
     "output_type": "stream",
     "text": [
      "....................\n",
      "....................\n",
      "....*************...\n",
      "....*************...\n",
      "....*************...\n",
      "....*************...\n",
      "....*************...\n",
      "....*************...\n",
      "....*************...\n",
      "....*************...\n",
      "....*************...\n",
      "....*************...\n",
      "....*************...\n",
      "....*************...\n",
      "....*************...\n",
      "....*************...\n",
      "....*************...\n",
      "....*************...\n",
      "....................\n",
      "....................\n",
      "площадь равна  =  208\n"
     ]
    }
   ],
   "source": [
    "sh2 = Rect(4,2,16,17)     #прямоугольник координаты (4,2)(6,7)\n",
    "sh2.draw()\n",
    "sh2.ss()"
   ]
  },
  {
   "cell_type": "code",
   "execution_count": 119,
   "metadata": {},
   "outputs": [
    {
     "name": "stdout",
     "output_type": "stream",
     "text": [
      "....................\n",
      "....................\n",
      "....................\n",
      "....................\n",
      "....................\n",
      "....................\n",
      "....................\n",
      "....................\n",
      "....................\n",
      "....................\n",
      "....................\n",
      "....................\n",
      "....................\n",
      "....................\n",
      "....................\n",
      "..............*.....\n",
      "....................\n",
      "....................\n",
      "....................\n",
      "....................\n",
      "площадь равна  =  0\n"
     ]
    }
   ],
   "source": [
    "sh=Sharp(15,16)\n",
    "sh.draw()          #точка\n",
    "sh.ss()"
   ]
  },
  {
   "cell_type": "code",
   "execution_count": 120,
   "metadata": {},
   "outputs": [],
   "source": [
    "class Square(Rect):\n",
    "    def __init__(self,x,y,s):\n",
    "        super().__init__(x,y,x+s-1,y+s-1)"
   ]
  },
  {
   "cell_type": "code",
   "execution_count": 121,
   "metadata": {},
   "outputs": [
    {
     "name": "stdout",
     "output_type": "stream",
     "text": [
      "....................\n",
      "....................\n",
      "....*************...\n",
      "....*************...\n",
      "....*************...\n",
      "....*************...\n",
      "....*************...\n",
      "....*************...\n",
      "....*************...\n",
      "....*************...\n",
      "....*************...\n",
      "....*************...\n",
      "....*************...\n",
      "....*************...\n",
      "....*************...\n",
      "....................\n",
      "....................\n",
      "....................\n",
      "....................\n",
      "....................\n"
     ]
    }
   ],
   "source": [
    "sq = Square(4,2,13)\n",
    "sq.draw()\n"
   ]
  },
  {
   "cell_type": "code",
   "execution_count": 134,
   "metadata": {},
   "outputs": [],
   "source": [
    "class Triangle(Sharp):\n",
    "    def __init__(self,sh1,sh2,sh3):\n",
    "        self.sh1=sh1\n",
    "        self.sh2=sh2\n",
    "        self.sh3=sh3\n",
    "        self.screen=[['_']*40 for _ in range(20)]\n",
    "    def line(self,sh1,sh2):\n",
    "        L=(max(sh2.x-sh1.x,sh2.y-sh1.y))+1\n",
    "        dx = (sh2.x-sh1.x) / L if L!=0 else 0\n",
    "        dy = (sh2.y-sh1.y) / L if L!=0 else 0\n",
    "        y=sh1.y\n",
    "        x=sh1.x\n",
    "        for i in range(0,L):\n",
    "            self.screen[round(y)][round(x)]='*'\n",
    "            y+=dy\n",
    "            x+=dx\n",
    "        self.screen[sh2.y][sh2.x]='*'  \n",
    "    def draw(self):\n",
    "        self.screen=[['.']*40 for _ in range(20)]\n",
    "        self.line(self.sh1,self.sh2)\n",
    "        self.line(self.sh1,self.sh3)\n",
    "        self.line(self.sh2,self.sh3)\n",
    "        self.print_screen()\n",
    "    def area(self):\n",
    "        from math import sqrt\n",
    "        a=sqrt((self.sh1.x-self.sh2.x)**2+(self.sh1.y-self.sh2.y)**2)\n",
    "        b=sqrt((self.sh1.x-self.sh3.x)**2+(self.sh1.y-self.sh3.y)**2)\n",
    "        c=sqrt((self.sh2.x-self.sh3.x)**2+(self.sh2.y-self.sh3.y)**2)\n",
    "        p=(a+b+c)/2\n",
    "        s=sqrt(p*(p-a)*(p-b)*(p-c))\n",
    "        return s\n",
    "    def __str__(self):\n",
    "        from math import sqrt\n",
    "        a=sqrt((self.sh1.x-self.sh2.x)**2+(self.sh1.y-self.sh2.y)**2)\n",
    "        b=sqrt((self.sh1.x-self.sh3.x)**2+(self.sh1.y-self.sh3.y)**2)\n",
    "        c=sqrt((self.sh2.x-self.sh3.x)**2+(self.sh2.y-self.sh3.y)**2)\n",
    "        return f'Это треугольник с длинами сторон {a}, {b} и {c}'"
   ]
  },
  {
   "cell_type": "code",
   "execution_count": 135,
   "metadata": {},
   "outputs": [
    {
     "name": "stdout",
     "output_type": "stream",
     "text": [
      "........................................\n",
      "........................................\n",
      "..**....................................\n",
      "..*.**..................................\n",
      "..*...***...............................\n",
      "..*......**.............................\n",
      "..*........**...........................\n",
      "..*..........***........................\n",
      "..*.............**......................\n",
      "..******************....................\n",
      "........................................\n",
      "........................................\n",
      "........................................\n",
      "........................................\n",
      "........................................\n",
      "........................................\n",
      "........................................\n",
      "........................................\n",
      "........................................\n",
      "........................................\n"
     ]
    },
    {
     "data": {
      "text/plain": [
       "59.50000000000001"
      ]
     },
     "execution_count": 135,
     "metadata": {},
     "output_type": "execute_result"
    }
   ],
   "source": [
    "tr2=Triangle(Sharp(2,2),Sharp(2,9),Sharp(19,9))\n",
    "tr2.draw()\n",
    "tr2.__str__()\n",
    "tr2.area()\n"
   ]
  },
  {
   "cell_type": "code",
   "execution_count": 114,
   "metadata": {},
   "outputs": [],
   "source": [
    "class Line(object):\n",
    "    def __init__(self,sh1,sh2):\n",
    "        self.sh1=sh1\n",
    "        self.sh2=sh2\n",
    "        self.screen=[['.']*20 for _ in range(20)]\n",
    "    def draw(self):\n",
    "        L=(max(self.sh2.x-self.sh1.x,self.sh2.y-self.sh1.y))+1\n",
    "        dx = (self.sh2.x-self.sh1.x) / L if L!=0 else 0\n",
    "        dy = (self.sh2.y-self.sh1.y) / L if L!=0 else 0\n",
    "        y=self.sh1.y\n",
    "        x=self.sh1.x\n",
    "        for i in range(0,L):\n",
    "            self.screen[round(y)][round(x)]='*'\n",
    "            y+=dy\n",
    "            x+=dx\n",
    "        self.screen[self.sh2.y][self.sh2.x]='*'  \n",
    "        self.print_screen()\n",
    "    def print_screen(self):\n",
    "        for line in self.screen:\n",
    "            for symb in line:\n",
    "                print(symb, end='')\n",
    "            print()\n",
    "    def __str__(self):\n",
    "        from math import sqrt\n",
    "        a=sqrt((self.sh1.x-self.sh2.x)**2+(self.sh1.y-self.sh2.y)**2)\n",
    "        return f'Линия длины {a}'"
   ]
  },
  {
   "cell_type": "code",
   "execution_count": 141,
   "metadata": {},
   "outputs": [
    {
     "name": "stdout",
     "output_type": "stream",
     "text": [
      "....................\n",
      ".*************......\n",
      "....................\n",
      "....................\n",
      "....................\n",
      "....................\n",
      "....................\n",
      "....................\n",
      "....................\n",
      "....................\n",
      "....................\n",
      "....................\n",
      "....................\n",
      "....................\n",
      "....................\n",
      "....................\n",
      "....................\n",
      "....................\n",
      "....................\n",
      "....................\n"
     ]
    },
    {
     "data": {
      "text/plain": [
       "'Линия длины 12.0'"
      ]
     },
     "execution_count": 141,
     "metadata": {},
     "output_type": "execute_result"
    }
   ],
   "source": [
    "l1=Line(Sharp(1,1),Sharp(13,1))\n",
    "l1.draw()\n",
    "l1.__str__()"
   ]
  },
  {
   "cell_type": "code",
   "execution_count": 146,
   "metadata": {},
   "outputs": [],
   "source": [
    "class Romb(object):\n",
    "    def __init__(self,sh1,sh2,sh3,sh4):\n",
    "        self.sh1=sh1\n",
    "        self.sh2=sh2\n",
    "        self.sh3=sh3\n",
    "        self.sh4=sh4\n",
    "        self.screen=[['.']*20 for _ in range(20)]\n",
    "    def draw(self):\n",
    "        L=(max(self.sh2.x-self.sh1.x,self.sh2.y-self.sh1.y))+1\n",
    "        dx = (self.sh2.x-self.sh1.x) / L if L!=0 else 0\n",
    "        dy = (self.sh2.y-self.sh1.y) / L if L!=0 else 0\n",
    "        y=self.sh1.y\n",
    "        x=self.sh1.x\n",
    "        for i in range(0,L):\n",
    "            self.screen[round(y)][round(x)]='*'\n",
    "            y+=dy\n",
    "            x+=dx\n",
    "        self.screen[self.sh2.y][self.sh2.x]='*'  \n",
    "        self.print_screen()\n",
    "        \n",
    "        L=(max(self.sh2.x-self.sh1.x,self.sh2.y-self.sh1.y))+1\n",
    "        dx = (self.sh2.x-self.sh1.x) / L if L!=0 else 0\n",
    "        dy = (self.sh2.y-self.sh1.y) / L if L!=0 else 0\n",
    "        y=self.sh1.y\n",
    "        x=self.sh1.x\n",
    "        for i in range(0,L):\n",
    "            self.screen[round(y)][round(x)]='*'\n",
    "            y+=dy\n",
    "            x+=dx\n",
    "        self.screen[self.sh2.y][self.sh2.x]='*'  \n",
    "        self.print_screen()\n",
    "        \n",
    "        L=(max(self.sh2.x-self.sh1.x,self.sh2.y-self.sh1.y))+1\n",
    "        dx = (self.sh4.x-self.sh3.x) / L if L!=0 else 0\n",
    "        dy = (self.sh4.y-self.sh3.y) / L if L!=0 else 0\n",
    "        y=self.sh3.y\n",
    "        x=self.sh3.x\n",
    "        for i in range(0,L):\n",
    "            self.screen[round(y)][round(x)]='*'\n",
    "            y+=dy\n",
    "            x+=dx\n",
    "        self.screen[self.sh4.y][self.sh4.x]='*'  \n",
    "        self.print_screen()\n",
    "        \n",
    "        L=(max(self.sh4.x-self.sh3.x,self.sh4.y-self.sh3.y))+1\n",
    "        dx = (self.sh4.x-self.sh3.x) / L if L!=0 else 0\n",
    "        dy = (self.sh4.y-self.sh3.y) / L if L!=0 else 0\n",
    "        y=self.sh3.y\n",
    "        x=self.sh3.x\n",
    "        for i in range(0,L):\n",
    "            self.screen[round(y)][round(x)]='*'\n",
    "            y+=dy\n",
    "            x+=dx\n",
    "        self.screen[self.sh4.y][self.sh4.x]='*'  \n",
    "        self.print_screen()\n",
    "        \n",
    "    def print_screen(self):\n",
    "        for line in self.screen:\n",
    "            for symb in line:\n",
    "                print(symb, end='')\n",
    "            print()\n",
    "    def __str__(self):\n",
    "        from math import sqrt\n",
    "        a=sqrt((self.sh1.x-self.sh2.x)**2+(self.sh1.y-self.sh2.y)**2)\n",
    "        a=sqrt((self.sh3.x-self.sh4.x)**2+(self.sh3.y-self.sh4.y)**2)\n",
    "        return f'Линия длины {a}'"
   ]
  },
  {
   "cell_type": "code",
   "execution_count": 147,
   "metadata": {},
   "outputs": [
    {
     "ename": "TypeError",
     "evalue": "__init__() takes 3 positional arguments but 5 were given",
     "output_type": "error",
     "traceback": [
      "\u001b[1;31m---------------------------------------------------------------------------\u001b[0m",
      "\u001b[1;31mTypeError\u001b[0m                                 Traceback (most recent call last)",
      "\u001b[1;32m<ipython-input-147-4742ffb47460>\u001b[0m in \u001b[0;36m<module>\u001b[1;34m\u001b[0m\n\u001b[1;32m----> 1\u001b[1;33m \u001b[0ml1\u001b[0m\u001b[1;33m=\u001b[0m\u001b[0mLine\u001b[0m\u001b[1;33m(\u001b[0m\u001b[0mSharp\u001b[0m\u001b[1;33m(\u001b[0m\u001b[1;36m5\u001b[0m\u001b[1;33m,\u001b[0m\u001b[1;36m5\u001b[0m\u001b[1;33m)\u001b[0m\u001b[1;33m,\u001b[0m \u001b[0mSharp\u001b[0m\u001b[1;33m(\u001b[0m\u001b[1;36m8\u001b[0m\u001b[1;33m,\u001b[0m\u001b[1;36m8\u001b[0m\u001b[1;33m)\u001b[0m\u001b[1;33m,\u001b[0m \u001b[0mSharp\u001b[0m\u001b[1;33m(\u001b[0m\u001b[1;36m9\u001b[0m\u001b[1;33m,\u001b[0m\u001b[1;36m9\u001b[0m\u001b[1;33m)\u001b[0m\u001b[1;33m,\u001b[0m \u001b[0mSharp\u001b[0m\u001b[1;33m(\u001b[0m\u001b[1;36m4\u001b[0m\u001b[1;33m,\u001b[0m\u001b[1;36m4\u001b[0m\u001b[1;33m)\u001b[0m\u001b[1;33m)\u001b[0m\u001b[1;33m\u001b[0m\u001b[1;33m\u001b[0m\u001b[0m\n\u001b[0m\u001b[0;32m      2\u001b[0m \u001b[0ml1\u001b[0m\u001b[1;33m.\u001b[0m\u001b[0mdraw\u001b[0m\u001b[1;33m(\u001b[0m\u001b[1;33m)\u001b[0m\u001b[1;33m\u001b[0m\u001b[1;33m\u001b[0m\u001b[0m\n\u001b[0;32m      3\u001b[0m \u001b[0ml1\u001b[0m\u001b[1;33m.\u001b[0m\u001b[0m__str__\u001b[0m\u001b[1;33m(\u001b[0m\u001b[1;33m)\u001b[0m\u001b[1;33m\u001b[0m\u001b[1;33m\u001b[0m\u001b[0m\n",
      "\u001b[1;31mTypeError\u001b[0m: __init__() takes 3 positional arguments but 5 were given"
     ]
    }
   ],
   "source": [
    "l1=Line(Sharp(5,5), Sharp(8,8), Sharp(9,9), Sharp(4,4))\n",
    "l1.draw()\n",
    "l1.__str__()"
   ]
  },
  {
   "cell_type": "code",
   "execution_count": null,
   "metadata": {},
   "outputs": [],
   "source": []
  }
 ],
 "metadata": {
  "kernelspec": {
   "display_name": "Python 3",
   "language": "python",
   "name": "python3"
  },
  "language_info": {
   "codemirror_mode": {
    "name": "ipython",
    "version": 3
   },
   "file_extension": ".py",
   "mimetype": "text/x-python",
   "name": "python",
   "nbconvert_exporter": "python",
   "pygments_lexer": "ipython3",
   "version": "3.8.3"
  }
 },
 "nbformat": 4,
 "nbformat_minor": 2
}
