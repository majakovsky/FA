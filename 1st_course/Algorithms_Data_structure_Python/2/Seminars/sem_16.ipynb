{
 "cells": [
  {
   "cell_type": "markdown",
   "metadata": {},
   "source": [
    "## Семинар 16\n",
    "## Структуры данных: деревья"
   ]
  },
  {
   "cell_type": "markdown",
   "metadata": {},
   "source": [
    "20) Создать класс BinaryTreeLL реализующий API для хранения двоичных деревьев в виде списка списков.\n",
    "\n",
    "* BinaryTreeLL(tree) - создание нового экземпляра бинарного дерева. tree - или значение root_val или список содержащий бинарное дерево или BinaryTreeLL.\n",
    "* get_left_child() - возвращает бинарное дерево связанное с левым дочерним узлом рассматриваемого узла.\n",
    "* get_right_child() - возвращает бинарное дерево связанное с правым дочерним узлом рассматриваемого узла. \n",
    "* get_val() - возвращает объект, хранящийся в данном узле.\n",
    "* set_val(val) - сохраняет объект val в данный узел.\n",
    "* insert_left_child(ll_val) - вставляет новое бинарное дерево в левый дочерний узел. ll_val - это или представление бинарного дерева в виде списка списков или BinaryTreeLL.\n",
    "* insert_right_child(ll_val) - вставляет новое бинарное дерево в правый дочерний узел. ll_val - это или представление бинарного дерева в виде списка списков или BinaryTreeLL.\n",
    "\n",
    "* get_tree_list() - возвращает представление дерева в виде списка."
   ]
  },
  {
   "cell_type": "code",
   "execution_count": null,
   "metadata": {},
   "outputs": [],
   "source": []
  },
  {
   "cell_type": "markdown",
   "metadata": {},
   "source": [
    "21) Создать класс BinaryNode реализующий API для хранения двоичных деревьев в виде объектов, ссылающихся на родителя и потомков. \n",
    "\n",
    "* BinaryNode(val) - создание нового экземпляра бинарного дерева. val - или значение root_val или бинарное дерево в виде BinaryNode.\n",
    "\n",
    "\n",
    "* get_val() - возвращает объект, хранящийся в данном узле.\n",
    "* set_val(val) - сохраняет объект val в данный узел.\n",
    "\n",
    "\n",
    "* get_left_child() - возвращает левый дочерний узел рассматриваемого узла.\n",
    "* get_right_child() - возвращает правый дочерний узел рассматриваемого узла.\n",
    "* set_left_child(node) - устанавливает новый левый дочерний узел. node - это или узел BinaryNode или None.\n",
    "* set_right_child(node) - устанавливает новый правый дочерний узел. node - это или узел BinaryNode или None.\n",
    "\n",
    "\n",
    "* get_parent() - возвращает родительский узел.\n",
    "* set_parent(node) - устанавливает новый родительский узел. node - это или узел BinaryNode или None."
   ]
  },
  {
   "cell_type": "code",
   "execution_count": 9,
   "metadata": {},
   "outputs": [],
   "source": []
  },
  {
   "cell_type": "code",
   "execution_count": null,
   "metadata": {},
   "outputs": [],
   "source": [
    "bn = BinaryNode(4)\n",
    "bn1 = BinaryNode(6)\n",
    "bn.insert_left(bn1)\n",
    "bn\n",
    "bn1.get_parent()"
   ]
  },
  {
   "cell_type": "markdown",
   "metadata": {
    "collapsed": true
   },
   "source": [
    "22) Реализовать разбор арифметических выражений с операциями +,-,*,/ и произвольным количеством скобок в виде бинарного дерева."
   ]
  },
  {
   "cell_type": "code",
   "execution_count": 126,
   "metadata": {
    "scrolled": true
   },
   "outputs": [],
   "source": []
  },
  {
   "cell_type": "code",
   "execution_count": 131,
   "metadata": {},
   "outputs": [
    {
     "name": "stdout",
     "output_type": "stream",
     "text": [
      "None (3 (None, None), None)\n",
      "None (+ (3 (None, None), 5 (None, None)), None)\n",
      "* (+ (3 (None, None), 5 (None, None)), 2 (None, None))\n",
      "* (+ (3 (None, None), 5 (None, None)), + (2 (None, None), 3 (None, None)))\n"
     ]
    },
    {
     "data": {
      "text/plain": [
       "40"
      ]
     },
     "execution_count": 131,
     "metadata": {},
     "output_type": "execute_result"
    }
   ],
   "source": [
    "tree = exp2tree('(3+5)*2+3')\n",
    "print(tree)\n",
    "count(tree)"
   ]
  },
  {
   "cell_type": "code",
   "execution_count": 150,
   "metadata": {},
   "outputs": [],
   "source": [
    "\n"
   ]
  },
  {
   "cell_type": "code",
   "execution_count": 151,
   "metadata": {},
   "outputs": [
    {
     "data": {
      "text/plain": [
       "19"
      ]
     },
     "execution_count": 151,
     "metadata": {},
     "output_type": "execute_result"
    }
   ],
   "source": [
    "tree = expression2tree('((8*2)+3)')\n",
    "performing(tree)"
   ]
  },
  {
   "cell_type": "markdown",
   "metadata": {},
   "source": [
    "23) Реализовать рассчет арифметического выражения, представленного в виде бинарного дерева из 22)."
   ]
  },
  {
   "cell_type": "code",
   "execution_count": null,
   "metadata": {},
   "outputs": [],
   "source": []
  },
  {
   "cell_type": "markdown",
   "metadata": {},
   "source": [
    "24) Реализовать прямой, обратный и симметричный порядок обхода дерева."
   ]
  },
  {
   "cell_type": "markdown",
   "metadata": {},
   "source": [
    "25) Реализовать двоичное дерево поиска с поддержкой операций: вставки (insert), проверки вхождения (оператор in) и удаления значений (оператор del)."
   ]
  },
  {
   "cell_type": "markdown",
   "metadata": {},
   "source": [
    "26) Реализовать функцию построения двоичной кучи из неотсортированного списка."
   ]
  }
 ],
 "metadata": {
  "anaconda-cloud": {},
  "kernelspec": {
   "display_name": "Python 3",
   "language": "python",
   "name": "python3"
  },
  "language_info": {
   "codemirror_mode": {
    "name": "ipython",
    "version": 3
   },
   "file_extension": ".py",
   "mimetype": "text/x-python",
   "name": "python",
   "nbconvert_exporter": "python",
   "pygments_lexer": "ipython3",
   "version": "3.7.6"
  }
 },
 "nbformat": 4,
 "nbformat_minor": 1
}
