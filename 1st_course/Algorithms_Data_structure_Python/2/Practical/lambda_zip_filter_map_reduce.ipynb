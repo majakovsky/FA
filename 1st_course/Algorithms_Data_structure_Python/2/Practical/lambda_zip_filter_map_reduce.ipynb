{
 "cells": [
  {
   "cell_type": "markdown",
   "metadata": {},
   "source": [
    "### Функциональное программирование в Python: lambda, zip, filter, map reduce"
   ]
  },
  {
   "cell_type": "markdown",
   "metadata": {},
   "source": [
    "Функциональным называется такой подход к процессу программирования, в котором программа рассматривается как вычисление математических функций, при этом не используются состояния и изменяемые объекты. Как правило, когда говорят о элементах функционального программировании в Python, то подразумеваются следующие функции: lambda, map, filter, reduce, zip."
   ]
  },
  {
   "cell_type": "markdown",
   "metadata": {},
   "source": [
    "### Lambda выражение в Python:\n",
    "\n",
    "lambda оператор или lambda функция в Python это способ создать анонимную функцию, то есть функцию без имени. Такие функции можно назвать одноразовыми, они используются только при создании. Как правило, lambda функции используются в комбинации с функциями filter, map, reduce.\n",
    "\n",
    "Синтаксис lambda выражения в Python"
   ]
  },
  {
   "cell_type": "code",
   "execution_count": null,
   "metadata": {},
   "outputs": [],
   "source": [
    "lambda arguments: expression"
   ]
  },
  {
   "cell_type": "markdown",
   "metadata": {},
   "source": [
    "В качестве arguments передается список аргументов, разделенных запятой, после чего над переданными аргументами выполняется expression. Если присвоить lambda-функцию переменной, то получим поведение как в обычной функции"
   ]
  },
  {
   "cell_type": "code",
   "execution_count": 2,
   "metadata": {},
   "outputs": [
    {
     "data": {
      "text/plain": [
       "42"
      ]
     },
     "execution_count": 2,
     "metadata": {},
     "output_type": "execute_result"
    }
   ],
   "source": [
    "multiply = lambda x,y: x * y\n",
    "multiply(21, 2)"
   ]
  },
  {
   "cell_type": "markdown",
   "metadata": {},
   "source": [
    "### Функция map() в Python:\n",
    "В Python функция map принимает два аргумента: функцию и аргумент составного типа данных, например, список. map применяет к каждому элементу списка переданную функцию."
   ]
  },
  {
   "cell_type": "markdown",
   "metadata": {},
   "source": [
    "Функция map() в python имеет следующий синтаксис:\n",
    "\n",
    "#### map(func, *iterables)\n",
    "\n",
    "Где func это функция, к которой будет применен каждый элемент из iterables (столько, сколько их есть). Заметили звездочку(*) на iterables? Это означает, что итераций может быть сколько угодно много, поскольку у func столько точных чисел, сколько и для входных аргументов. Прежде чем перейти к примеру, важно отметить следующее:\n",
    "\n",
    "-  Python 2, функция map() возвращает список.\n",
    "-  В Python 3, однако, функция возвращает map object который является объектом-генератором. Чтобы получить результат в виде списка, встроенная функция list() может быть вызвана для объекта карты, то есть список list(map(func, *iterables))\n",
    "Количество аргументов функции должно быть числом перечисленных iterables\n",
    "\n",
    "Например, вы прочитали из файла список чисел, изначально все эти числа имеют строковый тип данных, чтобы работать с ними - нужно превратить их в целое число:"
   ]
  },
  {
   "cell_type": "code",
   "execution_count": 12,
   "metadata": {},
   "outputs": [
    {
     "name": "stdout",
     "output_type": "stream",
     "text": [
      "[1, 2, 3, 4, 5, 6, 7]\n"
     ]
    },
    {
     "data": {
      "text/plain": [
       "[1, 2, 3, 4, 5, 6, 7]"
      ]
     },
     "execution_count": 12,
     "metadata": {},
     "output_type": "execute_result"
    }
   ],
   "source": [
    "old_list = ['1', '2', '3', '4', '5', '6', '7']\n",
    " \n",
    "new_list = []\n",
    "for item in old_list:\n",
    "    new_list.append(int(item))\n",
    " \n",
    "print (new_list)\n",
    " \n",
    "[1, 2, 3, 4, 5, 6, 7]"
   ]
  },
  {
   "cell_type": "code",
   "execution_count": null,
   "metadata": {},
   "outputs": [],
   "source": [
    "Тот же эффект мы можем получить, применив функцию map:"
   ]
  },
  {
   "cell_type": "code",
   "execution_count": 4,
   "metadata": {},
   "outputs": [
    {
     "name": "stdout",
     "output_type": "stream",
     "text": [
      "[1, 2, 3, 4, 5, 6, 7]\n"
     ]
    },
    {
     "data": {
      "text/plain": [
       "[1, 2, 3, 4, 5, 6, 7]"
      ]
     },
     "execution_count": 4,
     "metadata": {},
     "output_type": "execute_result"
    }
   ],
   "source": [
    "old_list = ['1', '2', '3', '4', '5', '6', '7']\n",
    "new_list = list(map(int, old_list))\n",
    "print (new_list)\n",
    " \n",
    "[1, 2, 3, 4, 5, 6, 7]"
   ]
  },
  {
   "cell_type": "markdown",
   "metadata": {},
   "source": [
    "Как видите такой способ занимает меньше строк, более читабелен и выполняется быстрее. map также работает и с функциями созданными пользователем:"
   ]
  },
  {
   "cell_type": "code",
   "execution_count": 5,
   "metadata": {},
   "outputs": [
    {
     "name": "stdout",
     "output_type": "stream",
     "text": [
      "[1.6, 10.4, 27.84, 3.84, 14.4]\n"
     ]
    },
    {
     "data": {
      "text/plain": [
       "[1.6, 10.4, 27.84, 3.84, 14.4]"
      ]
     },
     "execution_count": 5,
     "metadata": {},
     "output_type": "execute_result"
    }
   ],
   "source": [
    "def miles_to_kilometers(num_miles):\n",
    "    \"\"\" Converts miles to the kilometers \"\"\"\n",
    "    return num_miles * 1.6\n",
    " \n",
    "mile_distances = [1.0, 6.5, 17.4, 2.4, 9]\n",
    "kilometer_distances = list(map(miles_to_kilometers, mile_distances))\n",
    "print (kilometer_distances)\n",
    " \n",
    "[1.6, 10.4, 27.84, 3.84, 14.4]"
   ]
  },
  {
   "cell_type": "markdown",
   "metadata": {},
   "source": [
    "А теперь то же самое, только используя lambda выражение:"
   ]
  },
  {
   "cell_type": "code",
   "execution_count": 6,
   "metadata": {},
   "outputs": [
    {
     "name": "stdout",
     "output_type": "stream",
     "text": [
      "[1.6, 10.4, 27.84, 3.84, 14.4]\n"
     ]
    },
    {
     "data": {
      "text/plain": [
       "[1.6, 10.4, 27.84, 3.84, 14.4]"
      ]
     },
     "execution_count": 6,
     "metadata": {},
     "output_type": "execute_result"
    }
   ],
   "source": [
    "mile_distances = [1.0, 6.5, 17.4, 2.4, 9]\n",
    "kilometer_distances = list(map(lambda x: x * 1.6, mile_distances))\n",
    " \n",
    "print (kilometer_distances)\n",
    " \n",
    "[1.6, 10.4, 27.84, 3.84, 14.4]"
   ]
  },
  {
   "cell_type": "markdown",
   "metadata": {},
   "source": [
    "Функция map может быть так же применена для нескольких списков, в таком случае функция-аргумент должна принимать количество аргументов, соответствующее количеству списков:"
   ]
  },
  {
   "cell_type": "code",
   "execution_count": 7,
   "metadata": {},
   "outputs": [
    {
     "name": "stdout",
     "output_type": "stream",
     "text": [
      "[5, 7, 9]\n"
     ]
    },
    {
     "data": {
      "text/plain": [
       "[5, 7, 9]"
      ]
     },
     "execution_count": 7,
     "metadata": {},
     "output_type": "execute_result"
    }
   ],
   "source": [
    "l1 = [1,2,3]\n",
    "l2 = [4,5,6]\n",
    " \n",
    "new_list = list(map(lambda x,y: x + y, l1, l2))\n",
    "print (new_list)\n",
    " \n",
    "[5, 7, 9]"
   ]
  },
  {
   "cell_type": "markdown",
   "metadata": {},
   "source": [
    "Если же количество элементов в списках совпадать не будет, то выполнение закончится на минимальном списке:"
   ]
  },
  {
   "cell_type": "code",
   "execution_count": 8,
   "metadata": {},
   "outputs": [
    {
     "name": "stdout",
     "output_type": "stream",
     "text": [
      "[4, 5]\n"
     ]
    },
    {
     "data": {
      "text/plain": [
       "[5, 7]"
      ]
     },
     "execution_count": 8,
     "metadata": {},
     "output_type": "execute_result"
    }
   ],
   "source": [
    "l1 = [1,2,3]\n",
    "l2 = [4,5]\n",
    " \n",
    "new_list = list(map(lambda x,y:  + y, l1, l2))\n",
    " \n",
    "print (new_list)\n",
    "[5,7]"
   ]
  },
  {
   "cell_type": "markdown",
   "metadata": {},
   "source": [
    "### Функция filter() в Python:\n",
    "Функция filter предлагает вариант фильтрации элементов последовательности. \n",
    "В то время как map() пропускает каждый элемент итерируемого через функцию и возвращает результат всех элементов, прошедших через функцию filter(), прежде всего, требует, чтобы функция возвращала логические значения (true или false), а затем передает каждый элемент итерируемого через функцию, «отфильтровывая» те, которые являются ложными. Имеет следующий синтаксис:\n",
    "\n",
    "#### filter(func, iterable)\n",
    "\n",
    "Следующие пункты должны быть отмечены относительно filter():\n",
    "\n",
    "1. В отличие от map(), (), требуется только один итерируемый.\n",
    "2. Аргумент func необходим для возврата логического типа. Если этого не происходит, filter sпросто возвращает передаваемый ему iterable. Кроме того, поскольку требуется только один итерируемый, подразумевается, что func должен принимать только один аргумент.\n",
    "3. filter пропускает каждый элемент в итерируемом через func возвращает только только те, которые имеют значение true. Ведь это же заложено в самом названии -- «фильтр».\n",
    "\n",
    "Принимает в качестве аргументов функцию и последовательность, которую необходимо отфильтровать:"
   ]
  },
  {
   "cell_type": "code",
   "execution_count": null,
   "metadata": {},
   "outputs": [],
   "source": [
    "mixed = ['мак', 'просо', 'мак', 'мак', 'просо', 'мак', 'просо', 'просо', 'просо', 'мак']\n",
    "zolushka = list(filter(lambda x: x == 'мак', mixed))\n",
    " \n",
    "print (zolushka)\n",
    "['мак', 'мак', 'мак', 'мак', 'мак']"
   ]
  },
  {
   "cell_type": "markdown",
   "metadata": {},
   "source": [
    "Функция, передаваемая в filter должна возвращать значение True / False, чтобы элементы корректно отфильтровались.\n",
    "\n",
    "### Функция reduce() в Python:\n",
    "Функция reduce принимает 2 аргумента: функцию и последовательность. reduce() последовательно применяет функцию-аргумент к элементам списка, возвращает единичное значение. Обратите внимание в Python 2.x функция reduce доступна как встроенная, в то время, как в Python 3 она была перемещена в модуль functools.\n",
    "\n",
    "reduce применяет функцию двух аргументов кумулятивно к элементам итерируемого, необязательно начиная с начального аргумента. Имеет следующий синтаксис:\n",
    "\n",
    "#### reduce(func, iterable[, initial])\n",
    "\n",
    "Где func это функция, к которой кумулятивно применяется каждый элемент iterable, а initial необязательное значение, которое помещается перед элементами итерируемого в вычислении и служит значением по умолчанию, когда итерируемый объект пуст. О reduce()должно быть отмечено следующее:\n",
    "1. func требуется два аргумента, первый из которых является первым элементом в iterable (если initial не указан) а второй - вторым элементом в iterable. Если initial указано, то оно становится первым аргументом функции func, а первый элемент в iterable становится вторым элементом.\n",
    "2. reduce \"уменьшает\" iterable до одного значения.\n",
    "\n",
    "Вычисление суммы всех элементов списка при помощи reduce:"
   ]
  },
  {
   "cell_type": "code",
   "execution_count": 9,
   "metadata": {},
   "outputs": [
    {
     "name": "stdout",
     "output_type": "stream",
     "text": [
      "15\n"
     ]
    }
   ],
   "source": [
    "from functools import reduce\n",
    "items = [1,2,3,4,5]\n",
    "sum_all = reduce(lambda x,y: x + y, items)\n",
    " \n",
    "print (sum_all)"
   ]
  },
  {
   "cell_type": "markdown",
   "metadata": {},
   "source": [
    "Вычисление наибольшего элемента в списке при помощи reduce:"
   ]
  },
  {
   "cell_type": "code",
   "execution_count": 10,
   "metadata": {},
   "outputs": [
    {
     "name": "stdout",
     "output_type": "stream",
     "text": [
      "32\n"
     ]
    }
   ],
   "source": [
    "from functools import reduce\n",
    "items = [1, 24, 17, 14, 9, 32, 2]\n",
    "all_max = reduce(lambda a,b: a if (a > b) else b, items)\n",
    " \n",
    "print (all_max)"
   ]
  },
  {
   "cell_type": "markdown",
   "metadata": {},
   "source": [
    "### Функция zip() в Python:\n",
    "Функция zip объединяет в кортежи элементы из последовательностей переданных в качестве аргументов."
   ]
  },
  {
   "cell_type": "code",
   "execution_count": 11,
   "metadata": {},
   "outputs": [
    {
     "name": "stdout",
     "output_type": "stream",
     "text": [
      "[(1, 'x', None), (2, 'y', True)]\n"
     ]
    },
    {
     "data": {
      "text/plain": [
       "[(1, 'x', None), (2, 'y', True)]"
      ]
     },
     "execution_count": 11,
     "metadata": {},
     "output_type": "execute_result"
    }
   ],
   "source": [
    "a = [1,2,3]\n",
    "b = \"xyz\"\n",
    "c = (None, True)\n",
    " \n",
    "res = list(zip(a, b, c))\n",
    "print (res)\n",
    " \n",
    "[(1, 'x', None), (2, 'y', True)]"
   ]
  },
  {
   "cell_type": "markdown",
   "metadata": {},
   "source": [
    "zip прекращает выполнение, как только достигнут конец самого короткого списка."
   ]
  },
  {
   "cell_type": "code",
   "execution_count": null,
   "metadata": {},
   "outputs": [],
   "source": []
  }
 ],
 "metadata": {
  "kernelspec": {
   "display_name": "Python 3",
   "language": "python",
   "name": "python3"
  },
  "language_info": {
   "codemirror_mode": {
    "name": "ipython",
    "version": 3
   },
   "file_extension": ".py",
   "mimetype": "text/x-python",
   "name": "python",
   "nbconvert_exporter": "python",
   "pygments_lexer": "ipython3",
   "version": "3.7.6"
  }
 },
 "nbformat": 4,
 "nbformat_minor": 4
}
