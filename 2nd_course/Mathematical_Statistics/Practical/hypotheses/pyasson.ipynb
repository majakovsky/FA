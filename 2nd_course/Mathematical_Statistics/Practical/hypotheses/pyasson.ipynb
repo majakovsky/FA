{
  "nbformat": 4,
  "nbformat_minor": 0,
  "metadata": {
    "colab": {
      "provenance": []
    },
    "kernelspec": {
      "name": "python3",
      "display_name": "Python 3"
    },
    "language_info": {
      "name": "python"
    }
  },
  "cells": [
    {
      "cell_type": "code",
      "source": [
        "import numpy as np\n",
        "from scipy.stats import poisson\n",
        "from scipy.stats import chi2_contingency\n",
        "\n",
        "# Данные\n",
        "xi = np.array([0, 1, 2, 3, 4, 5, 6, 7])\n",
        "ni = np.array([427, 363, 154, 41, 9, 3, 3, 3])  # объединяем n6 и n7 с n5\n",
        "\n",
        "# Шаг 2: Определение ожидаемых частот для распределения Пуассона\n",
        "lambda_poisson = np.sum(xi * ni) / np.sum(ni)\n",
        "expected_frequencies = poisson.pmf(xi, lambda_poisson) * np.sum(ni)\n",
        "\n",
        "# Шаг 3: Создание таблицы сопряженности\n",
        "observed_expected_table = np.column_stack((ni, expected_frequencies))\n",
        "\n",
        "# Шаг 4: Проведение теста хи-квадрат для проверки гипотезы\n",
        "chi2_stat, p_value, _, _ = chi2_contingency(observed_expected_table)\n",
        "\n",
        "# Вывод результатов теста\n",
        "print(\"Статистическая статистика (chi2):\", chi2_stat)\n",
        "print(\"p-значение:\", p_value)\n",
        "\n",
        "# Анализ результатов теста\n",
        "alpha = 0.05\n",
        "if p_value < alpha:\n",
        "    print(\"\\nГипотеза не верна\")\n",
        "else:\n",
        "    print(\"\\nГипотеза верна\")\n"
      ],
      "metadata": {
        "colab": {
          "base_uri": "https://localhost:8080/"
        },
        "id": "EWJG1EyNkbL0",
        "outputId": "a990d7b7-e72c-4eba-ccb2-c840322529e1"
      },
      "execution_count": 3,
      "outputs": [
        {
          "output_type": "stream",
          "name": "stdout",
          "text": [
            "Статистическая статистика (chi2): 6.370175463282621\n",
            "p-значение: 0.49725051668198106\n",
            "\n",
            "Гипотеза верна\n"
          ]
        }
      ]
    }
  ]
}