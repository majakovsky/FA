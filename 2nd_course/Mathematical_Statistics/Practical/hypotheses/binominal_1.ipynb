{
  "nbformat": 4,
  "nbformat_minor": 0,
  "metadata": {
    "colab": {
      "provenance": []
    },
    "kernelspec": {
      "name": "python3",
      "display_name": "Python 3"
    },
    "language_info": {
      "name": "python"
    }
  },
  "cells": [
    {
      "cell_type": "code",
      "execution_count": 2,
      "metadata": {
        "colab": {
          "base_uri": "https://localhost:8080/"
        },
        "id": "uOiUTA1xl_OR",
        "outputId": "8d521186-23ee-426f-9932-fe9304e58c9a"
      },
      "outputs": [
        {
          "output_type": "stream",
          "name": "stdout",
          "text": [
            "Статистическая статистика (chi2): 24.971664810491962\n",
            "p-значение: 0.005399473596969167\n",
            "\n",
            "Гипотеза не верна\n"
          ]
        }
      ],
      "source": [
        "import numpy as np\n",
        "from scipy.stats import binom\n",
        "from scipy.stats import chi2_contingency\n",
        "\n",
        "# Данные\n",
        "xi = np.arange(11)\n",
        "ni = np.array([2, 12, 31, 42, 39, 35, 27, 5, 6, 4, 2])\n",
        "\n",
        "# Шаг 1: Объединение малочисленных частот\n",
        "ni[0] += ni[1]\n",
        "ni[7] += np.sum(ni[8:])\n",
        "\n",
        "# Шаг 2: Определение ожидаемых частот для биномиального распределения\n",
        "n = 10\n",
        "p = 0.4\n",
        "expected_frequencies = binom.pmf(xi, n, p) * np.sum(ni)\n",
        "\n",
        "# Шаг 3: Создание таблицы сопряженности\n",
        "observed_expected_table = np.column_stack((ni, expected_frequencies))\n",
        "\n",
        "# Шаг 4: Проведение теста хи-квадрат для проверки гипотезы\n",
        "chi2_stat, p_value, _, _ = chi2_contingency(observed_expected_table)\n",
        "\n",
        "# Вывод результатов теста\n",
        "print(\"Статистическая статистика (chi2):\", chi2_stat)\n",
        "print(\"p-значение:\", p_value)\n",
        "\n",
        "# Анализ результатов теста\n",
        "alpha = 0.05\n",
        "if p_value < alpha:\n",
        "    print(\"\\nГипотеза не верна\")\n",
        "else:\n",
        "    print(\"\\nГипотеза верна\")\n"
      ]
    }
  ]
}