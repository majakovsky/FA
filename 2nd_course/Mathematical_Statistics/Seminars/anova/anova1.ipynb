{
  "nbformat": 4,
  "nbformat_minor": 0,
  "metadata": {
    "colab": {
      "provenance": []
    },
    "kernelspec": {
      "name": "python3",
      "display_name": "Python 3"
    },
    "language_info": {
      "name": "python"
    }
  },
  "cells": [
    {
      "cell_type": "markdown",
      "source": [
        "Задача 1. Проведено по семь испытаний на каждом из четырёх уровней фактора над\n",
        "разными выборками. Методом дисперсионного анализа при уровне значимости 0,01\n",
        "проверить основную гипотезу о равенстве групповых средних. Предполагается, что\n",
        "выборки по- лучены из нормальных совокупностей с одинаковыми дисперсиями."
      ],
      "metadata": {
        "id": "-Uua8eLYdrPi"
      }
    },
    {
      "cell_type": "code",
      "source": [
        "import numpy as np\n",
        "from scipy.stats import f_oneway\n",
        "\n",
        "# Данные\n",
        "data = np.array([\n",
        "    [12, 15, 16, 19, 20, 21, 23],\n",
        "    [11, 12, 13, 15, 16, 18, 20],\n",
        "    [10, 13, 14, 16, 18, 20, 21],\n",
        "    [13, 15, 17, 19, 22, 23, 24]\n",
        "])\n",
        "\n",
        "# Групповые средние\n",
        "group_means = np.array([18, 15, 16, 19])\n",
        "\n",
        "# Проведение дисперсионного анализа\n",
        "statistic, p_value = f_oneway(*data)\n",
        "\n",
        "# Уровень значимости\n",
        "alpha = 0.01\n",
        "\n",
        "# Вывод результатов\n",
        "print(f'Статистика: {statistic}')\n",
        "print(f'p-значение: {p_value}')\n",
        "\n",
        "# Проверка гипотезы\n",
        "if p_value < alpha:\n",
        "    print(\"Средние групп различны.\")\n",
        "else:\n",
        "    print(\"Средние групп одинаковы.\")\n"
      ],
      "metadata": {
        "colab": {
          "base_uri": "https://localhost:8080/"
        },
        "id": "ju1T-2v3duDN",
        "outputId": "21ba8117-8af6-4597-d754-8329939ad6e3"
      },
      "execution_count": 2,
      "outputs": [
        {
          "output_type": "stream",
          "name": "stdout",
          "text": [
            "Статистика: 1.5909090909090908\n",
            "p-значение: 0.21763601685968526\n",
            "Средние групп одинаковы.\n"
          ]
        }
      ]
    }
  ]
}